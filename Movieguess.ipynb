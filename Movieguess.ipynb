{
 "cells": [
  {
   "cell_type": "code",
   "execution_count": 1,
   "id": "bee47d86",
   "metadata": {},
   "outputs": [],
   "source": [
    "import random"
   ]
  },
  {
   "cell_type": "code",
   "execution_count": 2,
   "id": "149a2451",
   "metadata": {},
   "outputs": [],
   "source": [
    "movies={'m1':('Kumbalangi Nights','Malayalam',2019,'Shane Nigam'),'m2':('Minnal Murali','Malayalm',2021,'Tovino Thomas'),\n",
    "      'm3':('Thallumaala','Malayalam',2022,'Tovino Thomas'),'m4':('Drishyam','Malayalam',2013,'Mohanlal')}\n",
    "mymovies=list(movies.keys())"
   ]
  },
  {
   "cell_type": "code",
   "execution_count": 3,
   "id": "a0cec84e",
   "metadata": {},
   "outputs": [
    {
     "data": {
      "text/plain": [
       "('Drishyam', 'Malayalam', 2013, 'Mohanlal')"
      ]
     },
     "execution_count": 3,
     "metadata": {},
     "output_type": "execute_result"
    }
   ],
   "source": [
    "movies['m4']"
   ]
  },
  {
   "cell_type": "code",
   "execution_count": 4,
   "id": "7d5cc2d4",
   "metadata": {},
   "outputs": [],
   "source": [
    "def getindex(movie):\n",
    "    if(len(movie)<=10):\n",
    "        random.seed(len(movie)+1)\n",
    "        return random.sample(range(len(movie)),3)\n",
    "    elif(len(movie)<=20):\n",
    "        random.seed(len(movie)+1)\n",
    "        return random.sample(range(len(movie)),5)\n",
    "    else:\n",
    "        random.seed(len(movie)+1)\n",
    "        return random.sample(range(len(movie)),7)"
   ]
  },
  {
   "cell_type": "code",
   "execution_count": 5,
   "id": "455bd650",
   "metadata": {},
   "outputs": [],
   "source": [
    "def printmovie(movieboard):\n",
    "    for i in movieboard:\n",
    "        print(i,end=\"  \")\n",
    "        \n",
    "def Countletter(movie,movieboard,letter):\n",
    "    a=movie.count(letter.upper())+movie.count(letter.lower())\n",
    "    b=movieboard.count(letter.upper())+movieboard.count(letter.lower())\n",
    "    return a,b\n",
    "\n",
    "def Checklettercomplete(letter,movie,movieboard):\n",
    "    a,b=Countletter(movie,movieboard,letter)\n",
    "    if(a==b):\n",
    "        return False\n",
    "    return True\n",
    "\n",
    "def Checkletter(letter,movie):\n",
    "    if(letter.upper() in movie or letter.lower() in movie):\n",
    "        return True\n",
    "    return False"
   ]
  },
  {
   "cell_type": "code",
   "execution_count": 6,
   "id": "e396804a",
   "metadata": {},
   "outputs": [],
   "source": [
    "def Guess_a_Letter(movie,movieboard):\n",
    "    guess=True\n",
    "    letter=\"\"\n",
    "    while(guess):\n",
    "        letter=input(\"\\nEnter your guess : \")\n",
    "        if(Checkletter(letter,movie)):\n",
    "            if(Checklettercomplete(letter,movie,movieboard)==True):\n",
    "                 guess=False\n",
    "            else:\n",
    "                print(\"Repetation of letter is over.\")\n",
    "        else:\n",
    "            print(\"The guess is wrong.\")\n",
    "    return letter"
   ]
  },
  {
   "cell_type": "code",
   "execution_count": 7,
   "id": "dc670b48",
   "metadata": {},
   "outputs": [],
   "source": [
    "def Exit_Game():\n",
    "    print(\"Enter 'yes' to continue,'no' to exit\")\n",
    "    ch='p'\n",
    "    while(ch not in ['yes','no']):\n",
    "        ch=input(\"Enter your choice: \")\n",
    "        if(ch not in ['yes','no']):\n",
    "            print(\"Wrong choice.\")\n",
    "        elif(ch=='yes'):\n",
    "            return True\n",
    "        else:\n",
    "            return False"
   ]
  },
  {
   "cell_type": "code",
   "execution_count": 8,
   "id": "0cfd7db8",
   "metadata": {},
   "outputs": [],
   "source": [
    "def guess_full_movie(movie):\n",
    "    guessmovie=input(\"Enter the movie name : \")\n",
    "    if(movie.lower()==guessmovie.lower()):\n",
    "        print(\"You guessed it right!.\")\n",
    "        movieboard=list(movie)\n",
    "    else:\n",
    "        print(\"Wrong guess.\")"
   ]
  },
  {
   "cell_type": "code",
   "execution_count": 9,
   "id": "58ebd428",
   "metadata": {},
   "outputs": [],
   "source": [
    "def makewords(movie):\n",
    "    listmovie=list(movie)\n",
    "    hints=getindex(movie)\n",
    "    for i in range(len(movie)):\n",
    "        if(i in hints or movie[i]==\" \"):\n",
    "            listmovie[i]=movie[i]\n",
    "        else:\n",
    "            listmovie[i]=\"_\"\n",
    "    return listmovie"
   ]
  },
  {
   "cell_type": "code",
   "execution_count": 10,
   "id": "17e4bcaf",
   "metadata": {},
   "outputs": [],
   "source": [
    "def updateboard(movieboard,w,movie):\n",
    "    temp=movie.lower()\n",
    "    w=w.lower()\n",
    "    for i in range(len(movie)):\n",
    "        if(temp[i]==w):\n",
    "            if(temp[i-1]==\" \"or i==0):\n",
    "                movieboard[i]=w.upper()\n",
    "            else:\n",
    "                movieboard[i]=w\n",
    "    return movieboard"
   ]
  },
  {
   "cell_type": "code",
   "execution_count": 11,
   "id": "33b038aa",
   "metadata": {},
   "outputs": [
    {
     "name": "stdout",
     "output_type": "stream",
     "text": [
      "Enter your name : sidharth\n",
      "Hello sidharth\n",
      "Guess the movie\n",
      "\n",
      "_  _  l  _  _  _  l  _     M  _  _  _  _  _  u     _  _  _  n  _  k  _  _  _  \n",
      "\n",
      "\n",
      "Enter your guess : malayali mamanu vanakkam\n",
      "The guess is wrong.\n",
      "\n",
      "Enter your guess : m\n",
      "\n",
      "\n",
      "M  _  l  _  _  _  l  _     M  _  _  m  _  _  u     _  _  _  n  _  k  _  _  m  \n",
      "\n",
      "\n",
      "Enter your guess : a\n",
      "\n",
      "\n",
      "M  a  l  a  _  a  l  _     M  a  a  m  a  _  u     _  a  _  n  a  k  _  a  m  \n",
      "\n",
      "\n",
      "Enter your guess : v\n",
      "\n",
      "\n",
      "M  a  l  a  _  a  l  _     M  a  a  m  a  _  u     V  a  _  n  a  k  _  a  m  \n",
      "\n",
      "\n",
      "Enter your guess : k\n",
      "\n",
      "\n",
      "M  a  l  a  _  a  l  _     M  a  a  m  a  _  u     V  a  _  n  a  k  k  a  m  \n",
      "\n",
      "\n",
      "Enter your guess : y\n",
      "\n",
      "\n",
      "M  a  l  a  y  a  l  _     M  a  a  m  a  _  u     V  a  _  n  a  k  k  a  m  \n",
      "\n",
      "\n",
      "Enter your guess : i\n",
      "\n",
      "\n",
      "M  a  l  a  y  a  l  i     M  a  a  m  a  _  u     V  a  _  n  a  k  k  a  m  \n",
      "\n",
      "\n",
      "Enter your guess : n\n",
      "\n",
      "\n",
      "M  a  l  a  y  a  l  i     M  a  a  m  a  n  u     V  a  n  n  a  k  k  a  m  \n",
      "\n",
      "You Guessed it wright.\n",
      "Movie name is Malayali Maamanu Vannakkam\n",
      "\n",
      "Do you want to play again : \n",
      "Enter 'yes' to continue,'no' to exit\n",
      "Enter your choice: no\n"
     ]
    }
   ],
   "source": [
    "on_game=True\n",
    "while(on_game):\n",
    "    name=input(\"Enter your name : \")\n",
    "    print(f\"Hello {name}\")\n",
    "    movie='Malayali Maamanu Vannakkam'm\n",
    "    movieboard=makewords(movie)\n",
    "    print(\"Guess the movie\\n\")   \n",
    "    printmovie(movieboard)\n",
    "    print(\"\\n\")\n",
    "    g_com=True\n",
    "    while(g_com):\n",
    "        letter=Guess_a_Letter(movie,movieboard)\n",
    "        movieboard=updateboard(movieboard,letter,movie)\n",
    "        print(\"\\n\")\n",
    "        printmovie(movieboard)\n",
    "        print(\"\\n\")\n",
    "        if(\"_\" not in movieboard):\n",
    "            g_com=False\n",
    "        else:\n",
    "            pass\n",
    "    print(\"You Guessed it wright.\")\n",
    "    print(f\"Movie name is {movie}\")\n",
    "    print(\"\\nDo you want to play again : \")\n",
    "    if(Exit_Game()):\n",
    "        pass\n",
    "    else:\n",
    "        on_game=False\n",
    "    "
   ]
  },
  {
   "cell_type": "code",
   "execution_count": null,
   "id": "1c2e5263",
   "metadata": {},
   "outputs": [],
   "source": []
  }
 ],
 "metadata": {
  "kernelspec": {
   "display_name": "Python 3 (ipykernel)",
   "language": "python",
   "name": "python3"
  },
  "language_info": {
   "codemirror_mode": {
    "name": "ipython",
    "version": 3
   },
   "file_extension": ".py",
   "mimetype": "text/x-python",
   "name": "python",
   "nbconvert_exporter": "python",
   "pygments_lexer": "ipython3",
   "version": "3.9.13"
  }
 },
 "nbformat": 4,
 "nbformat_minor": 5
}
