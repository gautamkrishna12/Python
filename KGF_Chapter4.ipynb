{
 "cells": [
  {
   "cell_type": "code",
   "execution_count": 1,
   "id": "bee47d86",
   "metadata": {},
   "outputs": [],
   "source": [
    "import random"
   ]
  },
  {
   "cell_type": "code",
   "execution_count": 2,
   "id": "5d35a2a6",
   "metadata": {},
   "outputs": [],
   "source": [
    "movie=\"Aadhipurish\""
   ]
  },
  {
   "cell_type": "code",
   "execution_count": 3,
   "id": "7d5cc2d4",
   "metadata": {},
   "outputs": [],
   "source": [
    "def getindex(movie):\n",
    "    if(len(movie)<=10):\n",
    "        random.seed(len(movie)+1)\n",
    "        return random.sample(range(len(movie)),3)\n",
    "    elif(len(movie)<=20):\n",
    "        random.seed(len(movie)+1)\n",
    "        return random.sample(range(len(movie)),5)\n",
    "    else:\n",
    "        random.seed(len(movie)+1)\n",
    "        return random.sample(range(len(movie)),7)"
   ]
  },
  {
   "cell_type": "code",
   "execution_count": 4,
   "id": "455bd650",
   "metadata": {},
   "outputs": [],
   "source": [
    "def printmovie(movieboard):\n",
    "    for i in movieboard:\n",
    "        print(i,end=\"  \")"
   ]
  },
  {
   "cell_type": "code",
   "execution_count": 5,
   "id": "dc670b48",
   "metadata": {},
   "outputs": [],
   "source": [
    "def checkletterin(letter,movie):\n",
    "    return letter in movie"
   ]
  },
  {
   "cell_type": "code",
   "execution_count": 21,
   "id": "0cfd7db8",
   "metadata": {},
   "outputs": [],
   "source": [
    "def guess_full_movie(movie):\n",
    "    guessmovie=input(\"Enter the movie name : \")\n",
    "    if(movie.lower()==guessmovie.lower()):\n",
    "        print(\"You guessed it right!.\")\n",
    "        movieboard=list(movie)\n",
    "    else:\n",
    "        print(\"Wrong guess.\")"
   ]
  },
  {
   "cell_type": "code",
   "execution_count": 6,
   "id": "58ebd428",
   "metadata": {},
   "outputs": [],
   "source": [
    "def makewords(movie):\n",
    "    listmovie=list(movie)\n",
    "    hints=getindex(movie)\n",
    "    for i in range(len(movie)):\n",
    "        if(i in hints or movie[i]==\" \"):\n",
    "            listmovie[i]=movie[i]\n",
    "        else:\n",
    "            listmovie[i]=\"_\"\n",
    "    return listmovie"
   ]
  },
  {
   "cell_type": "code",
   "execution_count": 7,
   "id": "17e4bcaf",
   "metadata": {},
   "outputs": [],
   "source": [
    "def updateboard(movieboard,w,movie):\n",
    "    temp=movie.lower()\n",
    "    w=w.lower()\n",
    "    for i in range(len(movie)):\n",
    "        if(temp[i]==w):\n",
    "            if(temp[i-1]==\" \"or i==0):\n",
    "                movieboard[i]=w.upper()\n",
    "            else:\n",
    "                movieboard[i]=w\n",
    "    return movieboard"
   ]
  },
  {
   "cell_type": "code",
   "execution_count": 25,
   "id": "19f08163",
   "metadata": {},
   "outputs": [],
   "source": [
    "movieboard=makewords(movie)"
   ]
  },
  {
   "cell_type": "code",
   "execution_count": 19,
   "id": "6cf70854",
   "metadata": {},
   "outputs": [],
   "source": [
    "movieboard=updateboard(movieboard,'h',movie)"
   ]
  },
  {
   "cell_type": "code",
   "execution_count": 26,
   "id": "8b5cfeac",
   "metadata": {},
   "outputs": [
    {
     "name": "stdout",
     "output_type": "stream",
     "text": [
      "_  a  _  _  i  p  _  r  i  _  _  "
     ]
    }
   ],
   "source": [
    "printmovie(movieboard)\n"
   ]
  },
  {
   "cell_type": "code",
   "execution_count": 27,
   "id": "88b3e92b",
   "metadata": {},
   "outputs": [
    {
     "name": "stdout",
     "output_type": "stream",
     "text": [
      "Enter the movie name : Aadhipurish\n",
      "You guessed it right!.\n"
     ]
    }
   ],
   "source": [
    "guess_full_movie(movie)"
   ]
  },
  {
   "cell_type": "code",
   "execution_count": null,
   "id": "7acbc443",
   "metadata": {},
   "outputs": [],
   "source": []
  }
 ],
 "metadata": {
  "kernelspec": {
   "display_name": "Python 3 (ipykernel)",
   "language": "python",
   "name": "python3"
  },
  "language_info": {
   "codemirror_mode": {
    "name": "ipython",
    "version": 3
   },
   "file_extension": ".py",
   "mimetype": "text/x-python",
   "name": "python",
   "nbconvert_exporter": "python",
   "pygments_lexer": "ipython3",
   "version": "3.9.13"
  }
 },
 "nbformat": 4,
 "nbformat_minor": 5
}
