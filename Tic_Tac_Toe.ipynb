{
 "cells": [
  {
   "cell_type": "code",
   "execution_count": 1,
   "id": "e5829c9e",
   "metadata": {},
   "outputs": [],
   "source": [
    "def print_Tic(Board):\n",
    "    print(Board[6]+' | '+Board[7]+\" | \"+ Board[8])\n",
    "    print(\"*********\")\n",
    "    print(Board[3]+' | '+Board[4]+\" | \"+ Board[5])\n",
    "    print(\"*********\")\n",
    "    print(Board[0]+' | '+Board[1]+\" | \"+ Board[2])"
   ]
  },
  {
   "cell_type": "code",
   "execution_count": 2,
   "id": "c85762fd",
   "metadata": {},
   "outputs": [],
   "source": [
    "Tic_Board=[' ',' ',' ',' ',' ',' ',' ',' ',' ']\n",
    "#print_Tic(Tic_Board)"
   ]
  },
  {
   "cell_type": "code",
   "execution_count": 3,
   "id": "d1dbb5df",
   "metadata": {},
   "outputs": [],
   "source": [
    "def set_Player():\n",
    "    print(\"Hello Players !\")\n",
    "    player_1='a'\n",
    "    while(player_1 not in ['X','O']):\n",
    "        player_1=input(\"Player-1 : Select 'X' or 'O': \")\n",
    "        if(player_1 not in ['X','O']):\n",
    "            print(\"Wrong choice.\")\n",
    "        else:\n",
    "            if(player_1=='X'):\n",
    "                return(\"X\",\"O\")\n",
    "            else:\n",
    "                return(\"O\",\"X\")"
   ]
  },
  {
   "cell_type": "code",
   "execution_count": 4,
   "id": "213b0f8a",
   "metadata": {},
   "outputs": [],
   "source": [
    "def Board_Clean(Tic_Board):\n",
    "    for i in range(0,len(Tic_Board)):\n",
    "        if Tic_Board[i]=='X' or Tic_Board[i]=='O':\n",
    "            Tic_Board[i]=' '"
   ]
  },
  {
   "cell_type": "code",
   "execution_count": 5,
   "id": "12122cf5",
   "metadata": {},
   "outputs": [],
   "source": [
    "def Board_Full():\n",
    "    for i in range(0,len(Tic_Board)):\n",
    "        if(Tic_Board[i]==' '):\n",
    "            return False\n",
    "    return True"
   ]
  },
  {
   "cell_type": "code",
   "execution_count": 6,
   "id": "6a905546",
   "metadata": {},
   "outputs": [],
   "source": [
    "def Position_Empty(Tic_Board,pos):\n",
    "    return Tic_Board[pos]==' '"
   ]
  },
  {
   "cell_type": "code",
   "execution_count": 7,
   "id": "a80aa082",
   "metadata": {},
   "outputs": [],
   "source": [
    "def Player_Won(Tic,Player):\n",
    "    return ((Tic[6]==Tic[7]==Tic[8]==Player) or\n",
    "    (Tic[3]==Tic[4]==Tic[5]==Player) or \n",
    "    (Tic[0]==Tic[1]==Tic[2]==Player) or \n",
    "    (Tic[6]==Tic[3]==Tic[0]==Player) or\n",
    "    (Tic[7]==Tic[4]==Tic[1]==Player) or\n",
    "    (Tic[8]==Tic[5]==Tic[2]==Player) or\n",
    "    (Tic[6]==Tic[4]==Tic[2]==Player) or\n",
    "    (Tic[8]==Tic[4]==Tic[0]==Player))"
   ]
  },
  {
   "cell_type": "code",
   "execution_count": 8,
   "id": "6096054d",
   "metadata": {},
   "outputs": [],
   "source": [
    "def select_Index():\n",
    "    avail=['1','2','3','4','5','6','7','8','9']\n",
    "    ch=10\n",
    "    while(ch not in avail):\n",
    "        ch=input(\"Enter the position (1-9) :\")\n",
    "        if(ch not in avail):\n",
    "            print(\"Choose the correct position!\")\n",
    "        elif(ch in avail):\n",
    "            if(Position_Empty(Tic_Board,int(ch)-1)):\n",
    "                pass\n",
    "            else:\n",
    "                print(\"The postion is already entered.\")\n",
    "                print(\"Try another\")\n",
    "                ch='p'\n",
    "        else:\n",
    "            pass\n",
    "    return int(ch)-1"
   ]
  },
  {
   "cell_type": "code",
   "execution_count": 9,
   "id": "f5a0989d",
   "metadata": {},
   "outputs": [],
   "source": [
    "def change_Tic(Tic_Board,player):\n",
    "    inde=select_Index()\n",
    "    Tic_Board[inde]=player\n"
   ]
  },
  {
   "cell_type": "code",
   "execution_count": 10,
   "id": "bc22ecb3",
   "metadata": {},
   "outputs": [],
   "source": [
    "def Exit_Game():\n",
    "    print(\"Enter 'yes' to continue,'no' to exit\")\n",
    "    ch='p'\n",
    "    while(ch not in ['yes','no']):\n",
    "        ch=input(\"Enter your choice: \")\n",
    "        if(ch not in ['yes','no']):\n",
    "            print(\"Wrong choice.\")\n",
    "        elif(ch=='yes'):\n",
    "            return True\n",
    "        else:\n",
    "            return False"
   ]
  },
  {
   "cell_type": "code",
   "execution_count": 11,
   "id": "cd951935",
   "metadata": {},
   "outputs": [
    {
     "name": "stdout",
     "output_type": "stream",
     "text": [
      "Welcome to Tic tack Toe\n",
      "**Game Board**\n",
      "\n",
      "  |   |  \n",
      "*********\n",
      "  |   |  \n",
      "*********\n",
      "  |   |  \n",
      "Hello Players !\n",
      "Player-1 : Select 'X' or 'O': X\n",
      "\n",
      "Go Player-1\n",
      "Enter the position (1-9) :5\n",
      "\n",
      "\n",
      "  |   |  \n",
      "*********\n",
      "  | X |  \n",
      "*********\n",
      "  |   |  \n",
      "\n",
      "Go-Player-2\n",
      "Enter the position (1-9) :2\n",
      "  |   |  \n",
      "*********\n",
      "  | X |  \n",
      "*********\n",
      "  | O |  \n",
      "\n",
      "\n",
      "\n",
      "Go Player-1\n",
      "Enter the position (1-9) :7\n",
      "\n",
      "\n",
      "X |   |  \n",
      "*********\n",
      "  | X |  \n",
      "*********\n",
      "  | O |  \n",
      "\n",
      "Go-Player-2\n",
      "Enter the position (1-9) :3\n",
      "X |   |  \n",
      "*********\n",
      "  | X |  \n",
      "*********\n",
      "  | O | O\n",
      "\n",
      "\n",
      "\n",
      "Go Player-1\n",
      "Enter the position (1-9) :1\n",
      "\n",
      "\n",
      "X |   |  \n",
      "*********\n",
      "  | X |  \n",
      "*********\n",
      "X | O | O\n",
      "\n",
      "Go-Player-2\n",
      "Enter the position (1-9) :4\n",
      "X |   |  \n",
      "*********\n",
      "O | X |  \n",
      "*********\n",
      "X | O | O\n",
      "\n",
      "\n",
      "\n",
      "Go Player-1\n",
      "Enter the position (1-9) :9\n",
      "\n",
      "\n",
      "X |   | X\n",
      "*********\n",
      "O | X |  \n",
      "*********\n",
      "X | O | O\n",
      "Conguradulations PLayer-1,You have WON!\n",
      "Do you want to keep Playing?\n",
      "Enter 'yes' to continue,'no' to exit\n",
      "Enter your choice: no\n",
      "Thank you\n"
     ]
    }
   ],
   "source": [
    "exit_Game=True\n",
    "while(exit_Game):\n",
    "    print(\"Welcome to Tic tack Toe\\n**Game Board**\\n\")\n",
    "    print_Tic(Tic_Board)\n",
    "    player_1,player_2=set_Player()\n",
    "    player=player_1\n",
    "    while(not Board_Full()):\n",
    "        if(player==player_1):\n",
    "            print(\"\\nGo Player-1\")\n",
    "            change_Tic(Tic_Board,player)\n",
    "            print(\"\\n\")\n",
    "            print_Tic(Tic_Board)\n",
    "            if(Player_Won(Tic_Board,player)):\n",
    "                print(\"Conguradulations PLayer-1,You have WON!\")\n",
    "                break\n",
    "            else:\n",
    "                player=player_2\n",
    "        else:\n",
    "            print(\"\\nGo-Player-2\")\n",
    "            change_Tic(Tic_Board,player)\n",
    "            print_Tic(Tic_Board)\n",
    "            print(\"\\n\")\n",
    "            if(Player_Won(Tic_Board,player)):\n",
    "                print(\"Conguradulations PLayer-2,You have WON!\")\n",
    "                break\n",
    "            else:\n",
    "                player=player_1\n",
    "    else:\n",
    "        print(\"Tie!\")\n",
    "    Board_Clean(Tic_Board)\n",
    "    print(\"Do you want to keep Playing?\")\n",
    "    if(Exit_Game()):\n",
    "        pass\n",
    "    else:\n",
    "        exit_Game=False\n",
    "        print(\"Thank you\")\n"
   ]
  },
  {
   "cell_type": "code",
   "execution_count": null,
   "id": "59921c3c",
   "metadata": {},
   "outputs": [],
   "source": []
  },
  {
   "cell_type": "code",
   "execution_count": null,
   "id": "5f22bd2b",
   "metadata": {},
   "outputs": [],
   "source": []
  }
 ],
 "metadata": {
  "kernelspec": {
   "display_name": "Python 3 (ipykernel)",
   "language": "python",
   "name": "python3"
  },
  "language_info": {
   "codemirror_mode": {
    "name": "ipython",
    "version": 3
   },
   "file_extension": ".py",
   "mimetype": "text/x-python",
   "name": "python",
   "nbconvert_exporter": "python",
   "pygments_lexer": "ipython3",
   "version": "3.9.13"
  }
 },
 "nbformat": 4,
 "nbformat_minor": 5
}
