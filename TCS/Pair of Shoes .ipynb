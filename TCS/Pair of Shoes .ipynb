{
 "cells": [
  {
   "cell_type": "code",
   "execution_count": 14,
   "id": "6622ea83-b190-4431-9dc5-c35c52a2341b",
   "metadata": {},
   "outputs": [],
   "source": [
    "def CountShoes(items):\n",
    "    Count=0\n",
    "    for i in items:\n",
    "         if \"R\" in i:\n",
    "            if i[:-1]+\"L\" in items:\n",
    "                Count+=1\n",
    "                items.remove(i)\n",
    "                items.remove(i[:-1]+\"L\")\n",
    "         if \"L\" in i:\n",
    "            if i[:-1]+\"R\" in items:\n",
    "                Count+=1\n",
    "                items.remove(i)\n",
    "                items.remove(i[:-1]+\"R\")\n",
    "    return Count"
   ]
  },
  {
   "cell_type": "code",
   "execution_count": 16,
   "id": "98ae67ae-869e-4306-b2b0-b16f5d426c50",
   "metadata": {},
   "outputs": [
    {
     "name": "stdin",
     "output_type": "stream",
     "text": [
      " 7R 7L 7L 8L 6R 7R 8R 6R\n"
     ]
    },
    {
     "name": "stdout",
     "output_type": "stream",
     "text": [
      "3\n"
     ]
    }
   ],
   "source": [
    "Shoes=list(map(str,input().split()))\n",
    "print(CountShoes(Shoes))"
   ]
  },
  {
   "cell_type": "code",
   "execution_count": null,
   "id": "3a1e50a7-8f6c-4e50-8bf2-e6bd8adb7e04",
   "metadata": {},
   "outputs": [],
   "source": []
  }
 ],
 "metadata": {
  "kernelspec": {
   "display_name": "Python 3 (ipykernel)",
   "language": "python",
   "name": "python3"
  },
  "language_info": {
   "codemirror_mode": {
    "name": "ipython",
    "version": 3
   },
   "file_extension": ".py",
   "mimetype": "text/x-python",
   "name": "python",
   "nbconvert_exporter": "python",
   "pygments_lexer": "ipython3",
   "version": "3.12.4"
  }
 },
 "nbformat": 4,
 "nbformat_minor": 5
}
