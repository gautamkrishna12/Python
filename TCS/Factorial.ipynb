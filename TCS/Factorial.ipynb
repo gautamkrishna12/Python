{
 "cells": [
  {
   "cell_type": "code",
   "execution_count": 1,
   "id": "ef511b50-d637-4c08-872f-c857b0525a88",
   "metadata": {},
   "outputs": [],
   "source": [
    "def Factorial(num):\n",
    "    if num==1:\n",
    "        return 1\n",
    "    return num*Factorial(num-1)"
   ]
  },
  {
   "cell_type": "code",
   "execution_count": 9,
   "id": "f922fbb5-d79b-444c-847d-190651d8f308",
   "metadata": {},
   "outputs": [
    {
     "data": {
      "text/plain": [
       "40320"
      ]
     },
     "execution_count": 9,
     "metadata": {},
     "output_type": "execute_result"
    }
   ],
   "source": [
    "Factorial(8)"
   ]
  },
  {
   "cell_type": "code",
   "execution_count": null,
   "id": "fc8e0406-c275-434c-b293-915920204e1e",
   "metadata": {},
   "outputs": [],
   "source": []
  }
 ],
 "metadata": {
  "kernelspec": {
   "display_name": "Python 3 (ipykernel)",
   "language": "python",
   "name": "python3"
  },
  "language_info": {
   "codemirror_mode": {
    "name": "ipython",
    "version": 3
   },
   "file_extension": ".py",
   "mimetype": "text/x-python",
   "name": "python",
   "nbconvert_exporter": "python",
   "pygments_lexer": "ipython3",
   "version": "3.12.4"
  }
 },
 "nbformat": 4,
 "nbformat_minor": 5
}
