{
 "cells": [
  {
   "cell_type": "code",
   "execution_count": 7,
   "id": "a6eac28d-d8c9-4a04-bf9b-76b21d10f817",
   "metadata": {},
   "outputs": [],
   "source": [
    "def GetMaxEleFromSubArr(arr,k):\n",
    "    l=len(arr)\n",
    "    output=[]\n",
    "    for i in range(l):\n",
    "        if (i+k)<=l:\n",
    "            output.append(max(arr[i:(i+k)]))\n",
    "    return output"
   ]
  },
  {
   "cell_type": "code",
   "execution_count": 9,
   "id": "a93a363f-76a2-4623-b679-82644a7280d5",
   "metadata": {},
   "outputs": [
    {
     "data": {
      "text/plain": [
       "[7, 7, 7, 6]"
      ]
     },
     "execution_count": 9,
     "metadata": {},
     "output_type": "execute_result"
    }
   ],
   "source": [
    "GetMaxEleFromSubArr([2,4,7,1,6,3],3)"
   ]
  },
  {
   "cell_type": "code",
   "execution_count": 15,
   "id": "74291da1-09fc-4219-b98c-dfdc012ea3b1",
   "metadata": {},
   "outputs": [],
   "source": [
    "def GetMax(arr,k):\n",
    "    output=[]\n",
    "    for i in range(len(arr)-k+1):\n",
    "        Max=arr[i]\n",
    "        for j in range(i,i+k):\n",
    "            if Max<arr[j]:\n",
    "                Max=arr[j]\n",
    "        output.append(Max)\n",
    "    return output"
   ]
  },
  {
   "cell_type": "code",
   "execution_count": 17,
   "id": "67c0fed7-1e15-4f67-918b-5ffc05a0e5fb",
   "metadata": {},
   "outputs": [
    {
     "data": {
      "text/plain": [
       "[7, 7, 7, 6]"
      ]
     },
     "execution_count": 17,
     "metadata": {},
     "output_type": "execute_result"
    }
   ],
   "source": [
    "GetMax([2,4,7,1,6,3],3)"
   ]
  },
  {
   "cell_type": "code",
   "execution_count": null,
   "id": "646767aa-1aaf-4e7e-b08f-64ef0120df8a",
   "metadata": {},
   "outputs": [],
   "source": []
  }
 ],
 "metadata": {
  "kernelspec": {
   "display_name": "Python 3 (ipykernel)",
   "language": "python",
   "name": "python3"
  },
  "language_info": {
   "codemirror_mode": {
    "name": "ipython",
    "version": 3
   },
   "file_extension": ".py",
   "mimetype": "text/x-python",
   "name": "python",
   "nbconvert_exporter": "python",
   "pygments_lexer": "ipython3",
   "version": "3.12.4"
  }
 },
 "nbformat": 4,
 "nbformat_minor": 5
}
