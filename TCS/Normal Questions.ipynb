{
 "cells": [
  {
   "cell_type": "code",
   "execution_count": 27,
   "id": "d3137c45-5d5b-4430-bc6c-e7b880a6be8e",
   "metadata": {},
   "outputs": [
    {
     "name": "stdin",
     "output_type": "stream",
     "text": [
      " 3\n"
     ]
    },
    {
     "name": "stdout",
     "output_type": "stream",
     "text": [
      "0\n",
      "1\n",
      "1\n"
     ]
    }
   ],
   "source": [
    "#Fibonaci Series\n",
    "def Fibonaci():\n",
    "    n=int(input())\n",
    "    a,b,c=0,1,0\n",
    "    for i in range(n):\n",
    "        print(a)\n",
    "        c=a+b\n",
    "        a=b\n",
    "        b=c\n",
    "if __name__ ==\"__main__\":\n",
    "    Fibonaci()"
   ]
  },
  {
   "cell_type": "code",
   "execution_count": 53,
   "id": "79114ba8-76aa-496e-b21e-af6186a5378f",
   "metadata": {},
   "outputs": [],
   "source": [
    "def Calculate_grade():\n",
    "    n=int(input())\n",
    "    details=[]\n",
    "    val=0\n",
    "    f=0\n",
    "    for i in range(n):\n",
    "        det=list(input().split())\n",
    "        details.append(det)\n",
    "    print(details)\n",
    "    names=[i[0] for i in details if int(i[1])>20]\n",
    "    for i in details:\n",
    "        if i[3]==\"female\":\n",
    "            val+=ord(i[2])\n",
    "            f+=1\n",
    "    print(*names)\n",
    "    print(val/f)"
   ]
  },
  {
   "cell_type": "code",
   "execution_count": 55,
   "id": "7aec26fa-a55e-4646-a786-4d11200da81a",
   "metadata": {},
   "outputs": [
    {
     "name": "stdin",
     "output_type": "stream",
     "text": [
      " 3\n",
      " AAA 21 A female\n",
      " BBB 22 B male\n",
      " CCC 22 C female\n"
     ]
    },
    {
     "name": "stdout",
     "output_type": "stream",
     "text": [
      "[['AAA', '21', 'A', 'female'], ['BBB', '22', 'B', 'male'], ['CCC', '22', 'C', 'female']]\n",
      "AAA BBB CCC\n",
      "66.0\n"
     ]
    }
   ],
   "source": [
    "Calculate_grade()"
   ]
  },
  {
   "cell_type": "code",
   "execution_count": 73,
   "id": "35c46647-230f-42ce-a226-993aa4edad01",
   "metadata": {},
   "outputs": [],
   "source": [
    "def FindMostRepeat():\n",
    "    n=int(input())\n",
    "    Count={}\n",
    "    repeat=[]\n",
    "    nums=list(map(int,input().split()))[:n]\n",
    "    for i in nums:\n",
    "        if i in Count:\n",
    "            Count[i]+=1\n",
    "            if Count[i]>=n//2:\n",
    "                repeat.append(i)\n",
    "        else:\n",
    "            Count[i]=1\n",
    "    print(*repeat)"
   ]
  },
  {
   "cell_type": "code",
   "execution_count": 75,
   "id": "d55dba44-00ed-4f09-9527-20ff032ace83",
   "metadata": {},
   "outputs": [
    {
     "name": "stdin",
     "output_type": "stream",
     "text": [
      " 6\n",
      " 2 4 2 4 2 4 6 6 6\n"
     ]
    },
    {
     "name": "stdout",
     "output_type": "stream",
     "text": [
      "2 4\n"
     ]
    }
   ],
   "source": [
    "FindMostRepeat()"
   ]
  },
  {
   "cell_type": "code",
   "execution_count": null,
   "id": "247bd4dc-9945-430b-9890-cc18496b9eba",
   "metadata": {},
   "outputs": [],
   "source": [
    "def FindRepeatNums():\n",
    "    n=int(input())\n",
    "    for i in range(n):\n",
    "        nums.append(int(input()))\n",
    "    "
   ]
  }
 ],
 "metadata": {
  "kernelspec": {
   "display_name": "Python 3 (ipykernel)",
   "language": "python",
   "name": "python3"
  },
  "language_info": {
   "codemirror_mode": {
    "name": "ipython",
    "version": 3
   },
   "file_extension": ".py",
   "mimetype": "text/x-python",
   "name": "python",
   "nbconvert_exporter": "python",
   "pygments_lexer": "ipython3",
   "version": "3.12.4"
  }
 },
 "nbformat": 4,
 "nbformat_minor": 5
}
