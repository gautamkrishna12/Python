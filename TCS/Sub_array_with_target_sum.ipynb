{
 "cells": [
  {
   "cell_type": "code",
   "execution_count": 53,
   "id": "04bb3194-4b24-4d23-b4e6-e624cdbb737e",
   "metadata": {},
   "outputs": [],
   "source": [
    "def GetSub(arr,target):\n",
    "    sub_arr=[]\n",
    "    test_arr=[]\n",
    "    n=len(arr)\n",
    "    for i in range(n):\n",
    "        for j in range(i,n):\n",
    "            test_arr.append(arr[j])\n",
    "            if sum(test_arr)==target:\n",
    "                sub_arr.append(test_arr[::])\n",
    "        test_arr=[]\n",
    "    for i in sub_arr:\n",
    "        print(i)"
   ]
  },
  {
   "cell_type": "code",
   "execution_count": 55,
   "id": "f060c9bf-3b18-443b-8f32-cb5d2767fd7f",
   "metadata": {},
   "outputs": [
    {
     "name": "stdout",
     "output_type": "stream",
     "text": [
      "[3, 4]\n",
      "[3, 4, -7, 1, 3, 3]\n",
      "[1, 3, 3]\n",
      "[3, 3, 1]\n"
     ]
    }
   ],
   "source": [
    "GetSub([3,4,-7,1,3,3,1,-4],7)"
   ]
  },
  {
   "cell_type": "code",
   "execution_count": null,
   "id": "53d090ca-ae5e-47c4-a068-9fb7b87fb0fb",
   "metadata": {},
   "outputs": [],
   "source": []
  }
 ],
 "metadata": {
  "kernelspec": {
   "display_name": "Python 3 (ipykernel)",
   "language": "python",
   "name": "python3"
  },
  "language_info": {
   "codemirror_mode": {
    "name": "ipython",
    "version": 3
   },
   "file_extension": ".py",
   "mimetype": "text/x-python",
   "name": "python",
   "nbconvert_exporter": "python",
   "pygments_lexer": "ipython3",
   "version": "3.12.4"
  }
 },
 "nbformat": 4,
 "nbformat_minor": 5
}
