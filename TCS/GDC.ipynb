{
 "cells": [
  {
   "cell_type": "code",
   "execution_count": 7,
   "id": "a305a602-9a13-45be-a145-5eb457060117",
   "metadata": {},
   "outputs": [],
   "source": [
    "def GetGCD(a,b):\n",
    "    low,high=min(a,b),max(a,b)\n",
    "    if low==0:\n",
    "        return high\n",
    "    elif low==1:\n",
    "        return 1\n",
    "    else:\n",
    "        return GetGCD(low,high%low)"
   ]
  },
  {
   "cell_type": "code",
   "execution_count": 17,
   "id": "e339b819-0e6a-411a-a5b9-0f8d0523accb",
   "metadata": {},
   "outputs": [
    {
     "data": {
      "text/plain": [
       "1"
      ]
     },
     "execution_count": 17,
     "metadata": {},
     "output_type": "execute_result"
    }
   ],
   "source": [
    "GetGCD(8,115)"
   ]
  },
  {
   "cell_type": "code",
   "execution_count": null,
   "id": "d3614dc9-6bb2-4ff8-8c04-f363472e185a",
   "metadata": {},
   "outputs": [],
   "source": []
  }
 ],
 "metadata": {
  "kernelspec": {
   "display_name": "Python 3 (ipykernel)",
   "language": "python",
   "name": "python3"
  },
  "language_info": {
   "codemirror_mode": {
    "name": "ipython",
    "version": 3
   },
   "file_extension": ".py",
   "mimetype": "text/x-python",
   "name": "python",
   "nbconvert_exporter": "python",
   "pygments_lexer": "ipython3",
   "version": "3.12.4"
  }
 },
 "nbformat": 4,
 "nbformat_minor": 5
}
