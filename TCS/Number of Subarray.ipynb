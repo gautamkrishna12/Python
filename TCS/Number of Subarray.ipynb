{
 "cells": [
  {
   "cell_type": "code",
   "execution_count": 25,
   "id": "7b67911a-dac4-4ea6-892e-e81a70708557",
   "metadata": {},
   "outputs": [],
   "source": [
    "def GetSubarray(arr):\n",
    "    sub_arr=[]\n",
    "    for i in range(len(arr)):\n",
    "        for j in range(i+1,len(arr)+1):\n",
    "            sub_arr.append(arr[i:j])\n",
    "    return sub_arr"
   ]
  },
  {
   "cell_type": "code",
   "execution_count": 11,
   "id": "7bb45647-c28f-4860-b8da-d5df20e09d7c",
   "metadata": {},
   "outputs": [
    {
     "name": "stdin",
     "output_type": "stream",
     "text": [
      " 1 2 3\n"
     ]
    }
   ],
   "source": [
    "arr=list(map(int,input().split()))"
   ]
  },
  {
   "cell_type": "code",
   "execution_count": 27,
   "id": "a3b5d16f-a9e9-4fce-9f42-0e1dd976eab0",
   "metadata": {},
   "outputs": [
    {
     "data": {
      "text/plain": [
       "[[1], [1, 2], [1, 2, 3], [2], [2, 3], [3]]"
      ]
     },
     "execution_count": 27,
     "metadata": {},
     "output_type": "execute_result"
    }
   ],
   "source": [
    "GetSubarray(arr)"
   ]
  },
  {
   "cell_type": "code",
   "execution_count": 29,
   "id": "915a69b4-fa9a-49d6-a88a-3ac77f5c6760",
   "metadata": {},
   "outputs": [
    {
     "name": "stdout",
     "output_type": "stream",
     "text": [
      "No. of subarr : 6\n"
     ]
    }
   ],
   "source": [
    "print(f\"No. of subarr : {len(GetSubarray(arr))}\")"
   ]
  },
  {
   "cell_type": "code",
   "execution_count": null,
   "id": "7cd7bf85-f773-4f48-9aa3-0cfa95f1f3d3",
   "metadata": {},
   "outputs": [],
   "source": []
  }
 ],
 "metadata": {
  "kernelspec": {
   "display_name": "Python 3 (ipykernel)",
   "language": "python",
   "name": "python3"
  },
  "language_info": {
   "codemirror_mode": {
    "name": "ipython",
    "version": 3
   },
   "file_extension": ".py",
   "mimetype": "text/x-python",
   "name": "python",
   "nbconvert_exporter": "python",
   "pygments_lexer": "ipython3",
   "version": "3.12.4"
  }
 },
 "nbformat": 4,
 "nbformat_minor": 5
}
