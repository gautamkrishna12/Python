{
 "cells": [
  {
   "cell_type": "code",
   "execution_count": 19,
   "id": "4e80a6bb-3500-4074-b0e4-88f52ae9ad6a",
   "metadata": {},
   "outputs": [
    {
     "data": {
      "text/plain": [
       "3"
      ]
     },
     "execution_count": 19,
     "metadata": {},
     "output_type": "execute_result"
    }
   ],
   "source": [
    "def subarrayBitwiseORs(A):\n",
    "    res, cur = set(), set()\n",
    "    for i in A:\n",
    "        cur = {i | j for j in cur} | {i}\n",
    "        res |= cur\n",
    "    return len(res)\n",
    "\n",
    "subarrayBitwiseORs([1,1,2])"
   ]
  },
  {
   "cell_type": "code",
   "execution_count": 25,
   "id": "5239816a-5649-4c88-8db9-35514dfa772d",
   "metadata": {},
   "outputs": [],
   "source": [
    "def SubArrBitwiseOR(arr):\n",
    "    res,cur=set(),set()\n",
    "    for i in arr:\n",
    "        cur={i|j for j in arr}|{i}\n",
    "        res|=cur\n",
    "    return len(res)"
   ]
  },
  {
   "cell_type": "code",
   "execution_count": 27,
   "id": "d011dae0-7bd4-4e4f-9638-16c7270aad32",
   "metadata": {},
   "outputs": [
    {
     "data": {
      "text/plain": [
       "6"
      ]
     },
     "execution_count": 27,
     "metadata": {},
     "output_type": "execute_result"
    }
   ],
   "source": [
    "SubArrBitwiseOR([1,2,4])"
   ]
  },
  {
   "cell_type": "code",
   "execution_count": 14,
   "id": "1c0a3ecf-3091-4dd2-9f12-1d59dffc0736",
   "metadata": {},
   "outputs": [],
   "source": [
    "def SubarryOR(arr):\n",
    "    res,cur=set(),set()\n",
    "    for i in arr:\n",
    "        cur={i|j for j in cur}|{i}\n",
    "        res|=cur\n",
    "    return len(res)"
   ]
  },
  {
   "cell_type": "code",
   "execution_count": 16,
   "id": "61019c88-a941-4601-812c-40a2d5ae23bc",
   "metadata": {},
   "outputs": [
    {
     "data": {
      "text/plain": [
       "3"
      ]
     },
     "execution_count": 16,
     "metadata": {},
     "output_type": "execute_result"
    }
   ],
   "source": [
    "SubarryOR([1,1,2])"
   ]
  },
  {
   "cell_type": "code",
   "execution_count": 18,
   "id": "2d449066-b4be-40fb-9c60-9782f7efbd84",
   "metadata": {},
   "outputs": [],
   "source": [
    "def BItwiseOR(arr):\n",
    "    res,curr=set(),set()\n",
    "    for i in arr:\n",
    "        curr={i|j for j in curr}|{i}\n",
    "        res|=curr\n",
    "    return len(res)"
   ]
  },
  {
   "cell_type": "code",
   "execution_count": 22,
   "id": "d1efa1ea-3c7a-4753-b82a-ec984b458dc1",
   "metadata": {},
   "outputs": [
    {
     "data": {
      "text/plain": [
       "3"
      ]
     },
     "execution_count": 22,
     "metadata": {},
     "output_type": "execute_result"
    }
   ],
   "source": [
    "BItwiseOR([1,1,2])"
   ]
  },
  {
   "cell_type": "code",
   "execution_count": null,
   "id": "390d94e7-7396-4f9e-950e-40e0f06c38b4",
   "metadata": {},
   "outputs": [],
   "source": []
  }
 ],
 "metadata": {
  "kernelspec": {
   "display_name": "Python 3 (ipykernel)",
   "language": "python",
   "name": "python3"
  },
  "language_info": {
   "codemirror_mode": {
    "name": "ipython",
    "version": 3
   },
   "file_extension": ".py",
   "mimetype": "text/x-python",
   "name": "python",
   "nbconvert_exporter": "python",
   "pygments_lexer": "ipython3",
   "version": "3.12.4"
  }
 },
 "nbformat": 4,
 "nbformat_minor": 5
}
