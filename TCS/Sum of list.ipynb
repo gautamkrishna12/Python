{
 "cells": [
  {
   "cell_type": "code",
   "execution_count": 5,
   "id": "3f641319-2e4c-4b9b-8c1e-aeea98b07fc9",
   "metadata": {},
   "outputs": [],
   "source": [
    "def GetSUMofList(List):\n",
    "    if len(List)==1:\n",
    "        return List[0]\n",
    "    return List[0]+GetSUMofList(List[1:])"
   ]
  },
  {
   "cell_type": "code",
   "execution_count": 13,
   "id": "db8e81a8-e101-4073-a928-6e9cf0017f8c",
   "metadata": {},
   "outputs": [
    {
     "data": {
      "text/plain": [
       "162"
      ]
     },
     "execution_count": 13,
     "metadata": {},
     "output_type": "execute_result"
    }
   ],
   "source": [
    "GetSUMofList([1,5,6,50,100])"
   ]
  },
  {
   "cell_type": "code",
   "execution_count": 15,
   "id": "014d38f2-f014-4773-ba38-a9f55c80f50c",
   "metadata": {},
   "outputs": [
    {
     "data": {
      "text/plain": [
       "list"
      ]
     },
     "execution_count": 15,
     "metadata": {},
     "output_type": "execute_result"
    }
   ],
   "source": [
    "type([])"
   ]
  },
  {
   "cell_type": "code",
   "execution_count": 17,
   "id": "62179cfd-17f3-4864-b048-732cdfb3a570",
   "metadata": {},
   "outputs": [],
   "source": [
    "#Calculate the sum of elements in a Nested list\n",
    "def GetSUM(List):\n",
    "    total=0\n",
    "    for i in List:\n",
    "        if type(i)==type([]):\n",
    "            total+=GetSUM(i)\n",
    "        else:\n",
    "            total+=i\n",
    "    return total"
   ]
  },
  {
   "cell_type": "code",
   "execution_count": 21,
   "id": "37f4b88a-c130-418d-832e-0c0d18b313b9",
   "metadata": {},
   "outputs": [
    {
     "data": {
      "text/plain": [
       "55"
      ]
     },
     "execution_count": 21,
     "metadata": {},
     "output_type": "execute_result"
    }
   ],
   "source": [
    "GetSUM([1,2,3,[4,5,[6,7,8]],9,10])"
   ]
  },
  {
   "cell_type": "code",
   "execution_count": null,
   "id": "5fbd1095-7bab-4db7-944f-80a85c41f736",
   "metadata": {},
   "outputs": [],
   "source": []
  }
 ],
 "metadata": {
  "kernelspec": {
   "display_name": "Python 3 (ipykernel)",
   "language": "python",
   "name": "python3"
  },
  "language_info": {
   "codemirror_mode": {
    "name": "ipython",
    "version": 3
   },
   "file_extension": ".py",
   "mimetype": "text/x-python",
   "name": "python",
   "nbconvert_exporter": "python",
   "pygments_lexer": "ipython3",
   "version": "3.12.4"
  }
 },
 "nbformat": 4,
 "nbformat_minor": 5
}
