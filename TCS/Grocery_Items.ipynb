{
 "cells": [
  {
   "cell_type": "code",
   "execution_count": 1,
   "id": "6ae1cade-a815-4b15-818e-992bcbb6166b",
   "metadata": {},
   "outputs": [],
   "source": [
    "Grocery=[[\"Apple\",30,50],[\"Orange\",40,60],[\"Apple\",56,50]]"
   ]
  },
  {
   "cell_type": "code",
   "execution_count": 59,
   "id": "6b95c63f-6556-415e-9aaf-edfff65de43b",
   "metadata": {},
   "outputs": [],
   "source": [
    "top_product=\"\"\n",
    "Total_sale=0\n",
    "Avg_sale=0\n",
    "Product={}\n",
    "for i in Grocery:\n",
    "    if i[0] in Product:\n",
    "        Product[i[0]][0]+=i[1]\n",
    "    else:\n",
    "        Product[i[0]]=[i[1],i[2]]\n",
    "m=0\n",
    "for i in list(Product.keys()):\n",
    "    if Product[i][0]>m:\n",
    "        top_product=i\n",
    "        m=Product[i][0]\n",
    "    Total_sale+=Product[i][0]\n",
    "Avg_sale=Total_sale/len(Grocery)"
   ]
  },
  {
   "cell_type": "code",
   "execution_count": 61,
   "id": "c6afd97c-2b11-412c-923a-ee70636f5c49",
   "metadata": {},
   "outputs": [
    {
     "data": {
      "text/plain": [
       "'Apple'"
      ]
     },
     "execution_count": 61,
     "metadata": {},
     "output_type": "execute_result"
    }
   ],
   "source": [
    "top_product"
   ]
  },
  {
   "cell_type": "code",
   "execution_count": 63,
   "id": "dff9d42f-7125-4eb0-a462-621426278012",
   "metadata": {},
   "outputs": [
    {
     "data": {
      "text/plain": [
       "126"
      ]
     },
     "execution_count": 63,
     "metadata": {},
     "output_type": "execute_result"
    }
   ],
   "source": [
    "Total_sale"
   ]
  },
  {
   "cell_type": "code",
   "execution_count": 65,
   "id": "eceeb8a1-064f-4ff3-8bfc-b96c3bb74b31",
   "metadata": {},
   "outputs": [
    {
     "data": {
      "text/plain": [
       "86"
      ]
     },
     "execution_count": 65,
     "metadata": {},
     "output_type": "execute_result"
    }
   ],
   "source": [
    "Product[list(Product.keys())[0]][0]"
   ]
  },
  {
   "cell_type": "code",
   "execution_count": 67,
   "id": "d5c1889d-6c7b-40ef-a283-613ce36bdb13",
   "metadata": {},
   "outputs": [
    {
     "data": {
      "text/plain": [
       "42.0"
      ]
     },
     "execution_count": 67,
     "metadata": {},
     "output_type": "execute_result"
    }
   ],
   "source": [
    "Avg_sale"
   ]
  },
  {
   "cell_type": "code",
   "execution_count": 33,
   "id": "00c22182-24ec-4714-99b0-2ce8ad35fb96",
   "metadata": {},
   "outputs": [
    {
     "name": "stdin",
     "output_type": "stream",
     "text": [
      "Enter the number of items :  3\n",
      "Item1 Name : a\n",
      "Enter the quantity :  10\n",
      "Enter the price 30\n",
      "Item2 Name : o\n",
      "Enter the quantity :  50\n",
      "Enter the price 5\n",
      "Item3 Name : a\n",
      "Enter the quantity :  70\n",
      "Enter the price 30\n"
     ]
    }
   ],
   "source": [
    "Grocery={}\n",
    "n=int(input(\"Enter the number of items : \"))\n",
    "Top_selling_item=\"\"\n",
    "Total_amount=0\n",
    "Avg_amount=0\n",
    "top=0\n",
    "for i in range(n):\n",
    "    item=input(f\"Item{i+1} Name :\")\n",
    "    quantity=int(input(\"Enter the quantity : \"))\n",
    "    price=int(input(\"Enter the price\"))\n",
    "    if item in Grocery:\n",
    "        Grocery[item][0]+=quantity\n",
    "    else:\n",
    "        Grocery[item]=[quantity,price]\n",
    "    Total_amount+=quantity*price\n",
    "    if (Grocery[item][0]*Grocery[item][1])>top:\n",
    "        top=Grocery[item][0]*Grocery[item][1]\n",
    "        Top_selling_item=item"
   ]
  },
  {
   "cell_type": "code",
   "execution_count": 35,
   "id": "15ed4eaa-87a1-411e-8d29-b68e433a5cc2",
   "metadata": {},
   "outputs": [
    {
     "data": {
      "text/plain": [
       "{'a': [80, 30], 'o': [50, 5]}"
      ]
     },
     "execution_count": 35,
     "metadata": {},
     "output_type": "execute_result"
    }
   ],
   "source": [
    "Grocery"
   ]
  },
  {
   "cell_type": "code",
   "execution_count": 13,
   "id": "c76c7d36-d3db-49da-83ff-6891ee84391c",
   "metadata": {},
   "outputs": [
    {
     "name": "stdout",
     "output_type": "stream",
     "text": [
      "1183.33\n"
     ]
    }
   ],
   "source": [
    "print(f\"{Total_amount/3:.2f}\")"
   ]
  },
  {
   "cell_type": "code",
   "execution_count": 37,
   "id": "46174b12-1bef-4870-ae8f-9e9dfe736a2d",
   "metadata": {},
   "outputs": [
    {
     "data": {
      "text/plain": [
       "2650"
      ]
     },
     "execution_count": 37,
     "metadata": {},
     "output_type": "execute_result"
    }
   ],
   "source": [
    "Total_amount"
   ]
  },
  {
   "cell_type": "code",
   "execution_count": 39,
   "id": "d37c824c-aec8-4e28-8893-16ecd84101d8",
   "metadata": {},
   "outputs": [
    {
     "data": {
      "text/plain": [
       "'a'"
      ]
     },
     "execution_count": 39,
     "metadata": {},
     "output_type": "execute_result"
    }
   ],
   "source": [
    "Top_selling_item"
   ]
  },
  {
   "cell_type": "code",
   "execution_count": 45,
   "id": "588abd60-61c0-4c0c-bba7-6ca1ad0f51eb",
   "metadata": {},
   "outputs": [],
   "source": [
    "Avg_amount=round(Total_amount/n,2)"
   ]
  },
  {
   "cell_type": "code",
   "execution_count": 47,
   "id": "4667f0be-903f-4222-bcb7-169e92010970",
   "metadata": {},
   "outputs": [
    {
     "data": {
      "text/plain": [
       "883.33"
      ]
     },
     "execution_count": 47,
     "metadata": {},
     "output_type": "execute_result"
    }
   ],
   "source": [
    "Avg_amount"
   ]
  },
  {
   "cell_type": "code",
   "execution_count": null,
   "id": "8c794933-8cec-4f1f-af0d-0486eaab1a15",
   "metadata": {},
   "outputs": [],
   "source": []
  }
 ],
 "metadata": {
  "kernelspec": {
   "display_name": "Python 3 (ipykernel)",
   "language": "python",
   "name": "python3"
  },
  "language_info": {
   "codemirror_mode": {
    "name": "ipython",
    "version": 3
   },
   "file_extension": ".py",
   "mimetype": "text/x-python",
   "name": "python",
   "nbconvert_exporter": "python",
   "pygments_lexer": "ipython3",
   "version": "3.12.4"
  }
 },
 "nbformat": 4,
 "nbformat_minor": 5
}
