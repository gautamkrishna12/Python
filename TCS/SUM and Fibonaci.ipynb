{
 "cells": [
  {
   "cell_type": "code",
   "execution_count": 75,
   "id": "033a33d5-5931-4755-9c1b-d0e1bd351a4d",
   "metadata": {},
   "outputs": [],
   "source": [
    "#Return the sum of number from x to y\n",
    "def SumofNums(s,e):\n",
    "    if e==s:\n",
    "        return s\n",
    "    return e+SumofNums(s,e-1)"
   ]
  },
  {
   "cell_type": "code",
   "execution_count": 77,
   "id": "576eb59f-0d1c-4699-b3d9-407938564f05",
   "metadata": {},
   "outputs": [
    {
     "data": {
      "text/plain": [
       "55"
      ]
     },
     "execution_count": 77,
     "metadata": {},
     "output_type": "execute_result"
    }
   ],
   "source": [
    "SumofNums(1,10)"
   ]
  },
  {
   "cell_type": "code",
   "execution_count": 61,
   "id": "310cd53f-66bc-4f18-b11f-cccd34d00a3c",
   "metadata": {},
   "outputs": [],
   "source": [
    "#Return the sum of number for to to x\n",
    "def GetSum(num):\n",
    "    if num==1:\n",
    "        return 1\n",
    "    return num+GetSum(num-1)"
   ]
  },
  {
   "cell_type": "code",
   "execution_count": 63,
   "id": "5b4505a8-af1b-4ad7-a397-44dead086ee2",
   "metadata": {},
   "outputs": [
    {
     "data": {
      "text/plain": [
       "210"
      ]
     },
     "execution_count": 63,
     "metadata": {},
     "output_type": "execute_result"
    }
   ],
   "source": [
    "GetSum(20)"
   ]
  },
  {
   "cell_type": "code",
   "execution_count": 71,
   "id": "b62dbcce-004d-4bf2-bbce-2a0fa66fab3d",
   "metadata": {},
   "outputs": [],
   "source": [
    "#Fibonacci Series\n",
    "def Fibonaci(num):\n",
    "    if num==0 or num==1:\n",
    "        return num\n",
    "    return Fibonaci(num-1)+Fibonaci(num-2)"
   ]
  },
  {
   "cell_type": "code",
   "execution_count": 73,
   "id": "aa9f5b9a-40f8-446b-8033-e0d741ec3425",
   "metadata": {},
   "outputs": [
    {
     "data": {
      "text/plain": [
       "8"
      ]
     },
     "execution_count": 73,
     "metadata": {},
     "output_type": "execute_result"
    }
   ],
   "source": [
    "Fibonaci(6)"
   ]
  },
  {
   "cell_type": "code",
   "execution_count": null,
   "id": "0e2e6737-8491-4b41-b4f6-f6df859be6d4",
   "metadata": {},
   "outputs": [],
   "source": []
  }
 ],
 "metadata": {
  "kernelspec": {
   "display_name": "Python 3 (ipykernel)",
   "language": "python",
   "name": "python3"
  },
  "language_info": {
   "codemirror_mode": {
    "name": "ipython",
    "version": 3
   },
   "file_extension": ".py",
   "mimetype": "text/x-python",
   "name": "python",
   "nbconvert_exporter": "python",
   "pygments_lexer": "ipython3",
   "version": "3.12.4"
  }
 },
 "nbformat": 4,
 "nbformat_minor": 5
}
