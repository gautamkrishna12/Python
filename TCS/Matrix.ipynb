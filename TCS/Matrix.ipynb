{
 "cells": [
  {
   "cell_type": "code",
   "execution_count": null,
   "id": "bcf7a803-4cf4-404f-a777-6c68cd397786",
   "metadata": {},
   "outputs": [],
   "source": [
    "def PrintMatrix(Mat,row,col):\n",
    "    for i in range(row):\n",
    "        for j in range(col):\n",
    "            print(Mat[i][j],end=\"  \")\n",
    "        print(\"\\n\")"
   ]
  },
  {
   "cell_type": "code",
   "execution_count": 51,
   "id": "12d518dd-8aee-42f3-81e2-2c7aaf95ba12",
   "metadata": {},
   "outputs": [],
   "source": [
    "#Taking input Matrix\n",
    "def TakeMatrix():\n",
    "    \n",
    "    row=int(input(\"Enter the number of rows :\"))\n",
    "    col=int(input(\"Enter the number of columns : \"))\n",
    "    Mat=[[input(f\"Enter Mat[{i}][{j}] : \") for j in range(col)] for i in range(row)]\n",
    "\n",
    "    return Mat"
   ]
  },
  {
   "cell_type": "code",
   "execution_count": 171,
   "id": "7f1ba7a4-2c8e-40d4-a857-219af248463c",
   "metadata": {},
   "outputs": [],
   "source": [
    "mat1=[[1,2,3],[4,5,6],[7,8,9]]\n",
    "mat2=[[10,11,12],[13,14,15],[16,17,18]]"
   ]
  },
  {
   "cell_type": "code",
   "execution_count": 161,
   "id": "e816f2a7-06d2-495b-be44-d4c51838ae48",
   "metadata": {},
   "outputs": [],
   "source": [
    "# Matrix Transpose(For Square Matrix)\n",
    "def Transpose(mat,row,col):\n",
    "    for i in range(col):\n",
    "        for j in range(i+1,row):\n",
    "            temp=mat[i][j]\n",
    "            mat[i][j]=mat[j][i]\n",
    "            mat[j][i]=temp\n",
    "    return mat"
   ]
  },
  {
   "cell_type": "code",
   "execution_count": 183,
   "id": "453f5b21-431a-421c-b89b-af62c62e5106",
   "metadata": {},
   "outputs": [],
   "source": [
    "def Transpose(Mat, row, col):\n",
    "    result = []\n",
    "    for i in range(col):\n",
    "        temp = []\n",
    "        for j in range(row):\n",
    "            temp.append(Mat[j][i])\n",
    "        result.append(temp)\n",
    "    return result"
   ]
  },
  {
   "cell_type": "code",
   "execution_count": 189,
   "id": "c2eacee6-54f0-4d59-885e-bad4a880d687",
   "metadata": {},
   "outputs": [],
   "source": [
    "def Transpose(Mat,row,col):\n",
    "    return [[Mat[j][i] for j in range(row)] for i in range(col)]"
   ]
  },
  {
   "cell_type": "code",
   "execution_count": 117,
   "id": "48a0f74c-4eb4-4a4e-9081-5e2ac4802b4c",
   "metadata": {},
   "outputs": [],
   "source": [
    "def MatrixSum(ma1,mat2,row,col):\n",
    "    SUM=[[0 for j in range(col)] for i in range(row)]\n",
    "    for i in range(row):\n",
    "        for j in range(col):\n",
    "            SUM[i][j]=mat1[i][j]+mat2[i][j]\n",
    "    PrintMatrix(SUM,row,col)\n",
    "    return SUM"
   ]
  },
  {
   "cell_type": "code",
   "execution_count": 123,
   "id": "a69c989e-d11a-4c42-893f-1933c6306266",
   "metadata": {},
   "outputs": [],
   "source": [
    "def Transpose(Mat,row,col):\n",
    "    return [[Mat[j][i] for j in range(row)] for i in range(col)]"
   ]
  },
  {
   "cell_type": "code",
   "execution_count": 143,
   "id": "5b34e250-629e-4da7-829a-dffcf24aef74",
   "metadata": {},
   "outputs": [
    {
     "data": {
      "text/plain": [
       "[[1, 4], [2, 5], [3, 6]]"
      ]
     },
     "execution_count": 143,
     "metadata": {},
     "output_type": "execute_result"
    }
   ],
   "source": [
    "Transpose([[1,2,3],[4,5,6]],2,3)"
   ]
  },
  {
   "cell_type": "code",
   "execution_count": 141,
   "id": "5560208b-4339-4e32-9dbf-f8e14aafa132",
   "metadata": {},
   "outputs": [],
   "source": [
    "def Transpose(Mat, row, col):\n",
    "    result = []\n",
    "    for i in range(col):\n",
    "        temp = []\n",
    "        for j in range(row):\n",
    "            temp.append(Mat[j][i])\n",
    "        result.append(temp)\n",
    "    return result"
   ]
  },
  {
   "cell_type": "code",
   "execution_count": null,
   "id": "5c142406-0a6b-42bb-a687-987cf996e49a",
   "metadata": {},
   "outputs": [],
   "source": []
  }
 ],
 "metadata": {
  "kernelspec": {
   "display_name": "Python 3 (ipykernel)",
   "language": "python",
   "name": "python3"
  },
  "language_info": {
   "codemirror_mode": {
    "name": "ipython",
    "version": 3
   },
   "file_extension": ".py",
   "mimetype": "text/x-python",
   "name": "python",
   "nbconvert_exporter": "python",
   "pygments_lexer": "ipython3",
   "version": "3.12.4"
  }
 },
 "nbformat": 4,
 "nbformat_minor": 5
}
