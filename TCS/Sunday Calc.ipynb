{
 "cells": [
  {
   "cell_type": "code",
   "execution_count": 180,
   "id": "086d29b6-738a-45c6-9582-e016baa7d656",
   "metadata": {},
   "outputs": [],
   "source": [
    "Days={0:\"mon\",1:\"tue\",2:\"wed\",3:\"thu\",4:\"fri\",5:\"sat\",6:\"sun\"}\n",
    "Day={\"mon\":0,\"tue\":1,\"wed\":2,\"thu\":3,\"fri\":4,\"sat\":5,\"sun\":6}\n",
    "def GetSUndays(start,days):\n",
    "    count=0\n",
    "    d=Day[start]\n",
    "    for i in range(days+1):\n",
    "       if Days[d]==\"sun\":\n",
    "           count+=1\n",
    "       d+=1\n",
    "       if d>6:\n",
    "           d=0\n",
    "    return count,Days[d]"
   ]
  },
  {
   "cell_type": "code",
   "execution_count": 198,
   "id": "5b09f2fc-9bfd-4b42-aa7c-c0cc73309ce6",
   "metadata": {},
   "outputs": [
    {
     "data": {
      "text/plain": [
       "(8, 'tue')"
      ]
     },
     "execution_count": 198,
     "metadata": {},
     "output_type": "execute_result"
    }
   ],
   "source": [
    "GetSUndays(\"sun\",50)"
   ]
  },
  {
   "cell_type": "code",
   "execution_count": 200,
   "id": "ec3c569f-a19f-436f-a417-e4b89a7710b5",
   "metadata": {},
   "outputs": [
    {
     "name": "stdin",
     "output_type": "stream",
     "text": [
      " sun\n",
      " 50\n"
     ]
    },
    {
     "name": "stdout",
     "output_type": "stream",
     "text": [
      "8\n"
     ]
    }
   ],
   "source": [
    "def main():\n",
    "    s = input()\n",
    "    a = int(input())\n",
    "    m = {\n",
    "        \"mon\": 6, \"tue\": 5, \"wed\": 4,\n",
    "        \"thu\": 3, \"fri\": 2, \"sat\": 1,\n",
    "        \"sun\": 0\n",
    "    }\n",
    "    ans = 0\n",
    "    if a - m[s[:3]] >= 1:\n",
    "        ans = 1 + (a - m[s[:3]]) // 7\n",
    "    print(ans)\n",
    "\n",
    "if __name__ == \"__main__\":\n",
    "    main()"
   ]
  },
  {
   "cell_type": "code",
   "execution_count": 214,
   "id": "0dba61b1-e0ac-4f58-b280-aa76ba8e6309",
   "metadata": {},
   "outputs": [
    {
     "name": "stdin",
     "output_type": "stream",
     "text": [
      " 7\n",
      " 1,2,3,0,0,0,5,6,\n"
     ]
    },
    {
     "name": "stdout",
     "output_type": "stream",
     "text": [
      "1 2 3 5 0 0 0\n"
     ]
    }
   ],
   "source": [
    "def main():\n",
    "    n=int(input())\n",
    "    arr=list(map(int,input().split(',')[:n]))\n",
    "    for i in arr:\n",
    "        if i==0:\n",
    "            arr.append(arr.pop(arr.index(i)))\n",
    "    print(*arr)\n",
    "\n",
    "if __name__==\"__main__\":\n",
    "    main()"
   ]
  },
  {
   "cell_type": "code",
   "execution_count": 224,
   "id": "1991bd16-ddd2-462c-821c-659137549b45",
   "metadata": {},
   "outputs": [
    {
     "name": "stdin",
     "output_type": "stream",
     "text": [
      " 3\n",
      "Product :  a\n",
      "Price :  100\n",
      "Quantity :  5\n",
      "Product :  b\n",
      "Price :  160\n",
      "Quantity :  5\n",
      "Product :  a\n",
      "Price :  100\n",
      "Quantity :  8\n"
     ]
    },
    {
     "name": "stdout",
     "output_type": "stream",
     "text": [
      "Total Sales:2100 , Avg.Sales : 700.0\n"
     ]
    }
   ],
   "source": [
    "n=int(input())\n",
    "grocery={}\n",
    "top_sell=\"\"\n",
    "max_price=0\n",
    "total=0\n",
    "for i in range(n):\n",
    "    pro=input(\"Product : \")\n",
    "    price=int(input(\"Price : \"))\n",
    "    quantity=int(input(\"Quantity : \"))\n",
    "    if pro in grocery:\n",
    "        grocery[pro][1]+=quantity\n",
    "    else:\n",
    "        grocery[pro]=[price,quantity]\n",
    "    if grocery[pro][0]*grocery[pro][1]>max_price:\n",
    "        top_sell=pro\n",
    "        max_price=grocery[pro][0]*grocery[pro][1]\n",
    "    total+=(price*quantity)\n",
    "print(f\"Total Sales:{total} , Avg.Sales : {total/n}\")"
   ]
  },
  {
   "cell_type": "code",
   "execution_count": 226,
   "id": "5780e7ff-6b21-40f8-b676-20c709f3d5af",
   "metadata": {},
   "outputs": [
    {
     "data": {
      "text/plain": [
       "'a'"
      ]
     },
     "execution_count": 226,
     "metadata": {},
     "output_type": "execute_result"
    }
   ],
   "source": [
    "top_sell"
   ]
  },
  {
   "cell_type": "code",
   "execution_count": 228,
   "id": "2dd9ad56-0c69-44d1-95e3-b86df3240228",
   "metadata": {},
   "outputs": [
    {
     "data": {
      "text/plain": [
       "{'a': [100, 13], 'b': [160, 5]}"
      ]
     },
     "execution_count": 228,
     "metadata": {},
     "output_type": "execute_result"
    }
   ],
   "source": [
    "grocery"
   ]
  },
  {
   "cell_type": "code",
   "execution_count": null,
   "id": "2fec071e-0b31-40f8-a299-0c9a1a3b2199",
   "metadata": {},
   "outputs": [],
   "source": []
  }
 ],
 "metadata": {
  "kernelspec": {
   "display_name": "Python 3 (ipykernel)",
   "language": "python",
   "name": "python3"
  },
  "language_info": {
   "codemirror_mode": {
    "name": "ipython",
    "version": 3
   },
   "file_extension": ".py",
   "mimetype": "text/x-python",
   "name": "python",
   "nbconvert_exporter": "python",
   "pygments_lexer": "ipython3",
   "version": "3.12.4"
  }
 },
 "nbformat": 4,
 "nbformat_minor": 5
}
