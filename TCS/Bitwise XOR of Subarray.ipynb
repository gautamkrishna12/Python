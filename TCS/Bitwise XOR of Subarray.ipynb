{
 "cells": [
  {
   "cell_type": "code",
   "execution_count": 1,
   "id": "60a4059e-a82e-4a34-9de4-4141c813e1b3",
   "metadata": {},
   "outputs": [
    {
     "name": "stdout",
     "output_type": "stream",
     "text": [
      "Max subarray XOR is  15\n"
     ]
    }
   ],
   "source": [
    "def maxSubarrayXOR(arr,n):\n",
    "    ans = -2147483648     \n",
    "    for i in range(n):\n",
    "        curr_xor = 0\n",
    "        for j in range(i,n):\n",
    "         \n",
    "            curr_xor = curr_xor ^ arr[j]\n",
    "            ans = max(ans, curr_xor)\n",
    "         \n",
    "    return ans\n",
    " \n",
    "arr = [8, 1, 2, 12]\n",
    "n = len(arr)\n",
    " \n",
    "print(\"Max subarray XOR is \",\n",
    "     maxSubarrayXOR(arr, n))\n"
   ]
  },
  {
   "cell_type": "code",
   "execution_count": null,
   "id": "bdb91e22-0cab-4563-b2cc-d981f072d86d",
   "metadata": {},
   "outputs": [],
   "source": []
  }
 ],
 "metadata": {
  "kernelspec": {
   "display_name": "Python 3 (ipykernel)",
   "language": "python",
   "name": "python3"
  },
  "language_info": {
   "codemirror_mode": {
    "name": "ipython",
    "version": 3
   },
   "file_extension": ".py",
   "mimetype": "text/x-python",
   "name": "python",
   "nbconvert_exporter": "python",
   "pygments_lexer": "ipython3",
   "version": "3.12.4"
  }
 },
 "nbformat": 4,
 "nbformat_minor": 5
}
