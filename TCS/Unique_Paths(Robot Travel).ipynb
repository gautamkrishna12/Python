{
 "cells": [
  {
   "cell_type": "code",
   "execution_count": 9,
   "id": "9814fc0e-90cd-4e7c-9095-b9656592e238",
   "metadata": {},
   "outputs": [],
   "source": [
    "Map=[[-1]*10 for _ in range(10)]"
   ]
  },
  {
   "cell_type": "code",
   "execution_count": 11,
   "id": "46253dc6-013c-4077-9bb3-82b402c5dff2",
   "metadata": {},
   "outputs": [
    {
     "data": {
      "text/plain": [
       "[[-1, -1, -1, -1, -1, -1, -1, -1, -1, -1],\n",
       " [-1, -1, -1, -1, -1, -1, -1, -1, -1, -1],\n",
       " [-1, -1, -1, -1, -1, -1, -1, -1, -1, -1],\n",
       " [-1, -1, -1, -1, -1, -1, -1, -1, -1, -1],\n",
       " [-1, -1, -1, -1, -1, -1, -1, -1, -1, -1],\n",
       " [-1, -1, -1, -1, -1, -1, -1, -1, -1, -1],\n",
       " [-1, -1, -1, -1, -1, -1, -1, -1, -1, -1],\n",
       " [-1, -1, -1, -1, -1, -1, -1, -1, -1, -1],\n",
       " [-1, -1, -1, -1, -1, -1, -1, -1, -1, -1],\n",
       " [-1, -1, -1, -1, -1, -1, -1, -1, -1, -1]]"
      ]
     },
     "execution_count": 11,
     "metadata": {},
     "output_type": "execute_result"
    }
   ],
   "source": [
    "Map"
   ]
  },
  {
   "cell_type": "code",
   "execution_count": 13,
   "id": "2bf1412c-43d7-4346-bb90-2b078215a303",
   "metadata": {},
   "outputs": [],
   "source": [
    "def Uniquepaths(self,i,j,map):\n",
    "    if i==0 and j==0:\n",
    "        return 1\n",
    "    if i<0 and j<0:\n",
    "        return 0\n",
    "    if map[i][j]!=-1:\n",
    "        return map[i][j]\n",
    "    up=self.Uniquepaths(i-1,j,map)\n",
    "    left=self.Uniquepaths(i,j-1,map)\n",
    "    map[i][j]=up+left\n",
    "    return dp[i][j]"
   ]
  },
  {
   "cell_type": "code",
   "execution_count": 27,
   "id": "bf5f1405-f2f4-4952-b75a-8619412dbfd1",
   "metadata": {},
   "outputs": [],
   "source": [
    "def CalculateUniquePaths(m,n):\n",
    "    Map=[[-1]*n for i in range(m)]\n",
    "    return Uniquepaths(m-1,n-1,Map)"
   ]
  },
  {
   "cell_type": "code",
   "execution_count": 1,
   "id": "952216ba-02bd-4d0f-97a3-4aaf7770a614",
   "metadata": {},
   "outputs": [],
   "source": [
    "#CalculateUniquePaths(10,20)"
   ]
  },
  {
   "cell_type": "code",
   "execution_count": 3,
   "id": "ba3243e9-59de-426e-87ef-8b5907d195e3",
   "metadata": {},
   "outputs": [],
   "source": [
    "def UniquePaths(m,n):\n",
    "    def Paths(i,j):\n",
    "        if i==m-1 or j==n-1:\n",
    "            return 1\n",
    "        return Paths(i+1,j)+Paths(i,j+1)\n",
    "    return Paths(0,0)"
   ]
  },
  {
   "cell_type": "code",
   "execution_count": 5,
   "id": "11074c02-6543-4e6d-905a-4e5cc85c4e88",
   "metadata": {},
   "outputs": [
    {
     "data": {
      "text/plain": [
       "70"
      ]
     },
     "execution_count": 5,
     "metadata": {},
     "output_type": "execute_result"
    }
   ],
   "source": [
    "UniquePaths(5,5)"
   ]
  },
  {
   "cell_type": "code",
   "execution_count": 7,
   "id": "c8963ca9-175d-4081-9964-12c33c7be220",
   "metadata": {},
   "outputs": [
    {
     "name": "stdout",
     "output_type": "stream",
     "text": [
      "70\n"
     ]
    }
   ],
   "source": [
    "\n",
    "def UniquePaths(m, n):\n",
    "    from functools import lru_cache\n",
    "\n",
    "    @lru_cache(None)\n",
    "    def Paths(i, j):\n",
    "        if i == m - 1 or j == n - 1:\n",
    "            return 1\n",
    "        return Paths(i + 1, j) + Paths(i, j + 1)\n",
    "\n",
    "    return Paths(0, 0)\n",
    "\n",
    "# Example usage:\n",
    "print(UniquePaths(5, 5))  # Output: 252\n"
   ]
  },
  {
   "cell_type": "code",
   "execution_count": 15,
   "id": "5b49575f-a4a0-4a41-a7d4-399e8d9c993a",
   "metadata": {},
   "outputs": [
    {
     "name": "stdin",
     "output_type": "stream",
     "text": [
      " 3\n",
      " 2 4 7 1 6 3\n"
     ]
    },
    {
     "name": "stdout",
     "output_type": "stream",
     "text": [
      "7 7 7 6\n"
     ]
    }
   ],
   "source": [
    "k=int(input())\n",
    "sol=[]\n",
    "arr=list(map(int,input().split()))\n",
    "for i in range(len(arr)):\n",
    "    if (i+k)<=len(arr):\n",
    "        sol.append(max(arr[i:i+3]))\n",
    "print(*sol)"
   ]
  },
  {
   "cell_type": "code",
   "execution_count": null,
   "id": "e8b1d1ce-5f2f-42fd-be52-c97f222b2fe9",
   "metadata": {},
   "outputs": [],
   "source": [
    "class Solution:\n",
    "    def uniquePaths(self, m: int, n: int) -> int:        \n",
    "        res = [[1]*n for _ in range(m)]\n",
    "        for i in range(1,m):\n",
    "            for j in range(1,n):\n",
    "                res[i][j] = res[i-1][j] + res[i][j-1]\n",
    "        return res[m-1][n-1]"
   ]
  },
  {
   "cell_type": "code",
   "execution_count": 15,
   "id": "6051d63d-1676-4366-972b-982a16b97079",
   "metadata": {},
   "outputs": [],
   "source": [
    "def UbiquePaths(m,n):\n",
    "    res=[[1]*n for i in range(m)]\n",
    "    for i in range(1,m):\n",
    "        for j in range(1,n):\n",
    "            res[i][j]=res[i-1][j]+res[i][j-1]\n",
    "    return res[m-1][n-1]"
   ]
  },
  {
   "cell_type": "code",
   "execution_count": 17,
   "id": "2e672672-e428-40aa-9e7a-8cf719461de6",
   "metadata": {},
   "outputs": [
    {
     "data": {
      "text/plain": [
       "70"
      ]
     },
     "execution_count": 17,
     "metadata": {},
     "output_type": "execute_result"
    }
   ],
   "source": [
    "UbiquePaths(5,5)"
   ]
  },
  {
   "cell_type": "code",
   "execution_count": 23,
   "id": "10d26992-abc5-4222-807b-d445681be38f",
   "metadata": {},
   "outputs": [],
   "source": [
    "def Unique(m,n):\n",
    "    Map=[[1]*n for i in range(m)]\n",
    "    for i in range(1,m):\n",
    "        for j in range(1,n):\n",
    "            Map[i][j]=Map[i-1][j]+Map[i][j-1]\n",
    "    return Map[m-1][n-1]"
   ]
  },
  {
   "cell_type": "code",
   "execution_count": 25,
   "id": "0551fbe2-e1f8-4a7a-b3f9-bfa995d49a4d",
   "metadata": {},
   "outputs": [
    {
     "data": {
      "text/plain": [
       "70"
      ]
     },
     "execution_count": 25,
     "metadata": {},
     "output_type": "execute_result"
    }
   ],
   "source": [
    "Unique(5,5)"
   ]
  },
  {
   "cell_type": "code",
   "execution_count": null,
   "id": "533828a6-ca1f-465d-b784-5ca53e382428",
   "metadata": {},
   "outputs": [],
   "source": []
  }
 ],
 "metadata": {
  "kernelspec": {
   "display_name": "Python 3 (ipykernel)",
   "language": "python",
   "name": "python3"
  },
  "language_info": {
   "codemirror_mode": {
    "name": "ipython",
    "version": 3
   },
   "file_extension": ".py",
   "mimetype": "text/x-python",
   "name": "python",
   "nbconvert_exporter": "python",
   "pygments_lexer": "ipython3",
   "version": "3.12.4"
  }
 },
 "nbformat": 4,
 "nbformat_minor": 5
}
