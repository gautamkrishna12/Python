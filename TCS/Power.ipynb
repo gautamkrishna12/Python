{
 "cells": [
  {
   "cell_type": "code",
   "execution_count": 3,
   "id": "fd0e93f6-b340-4c99-b39c-5d614bf873ec",
   "metadata": {},
   "outputs": [],
   "source": [
    "def Power(a,b):\n",
    "    if b==0:\n",
    "        return 1\n",
    "    return a*Power(a,b-1)"
   ]
  },
  {
   "cell_type": "code",
   "execution_count": 9,
   "id": "e169e749-7dd1-4c07-acdf-a3ab57aa591d",
   "metadata": {},
   "outputs": [
    {
     "data": {
      "text/plain": [
       "125"
      ]
     },
     "execution_count": 9,
     "metadata": {},
     "output_type": "execute_result"
    }
   ],
   "source": [
    "Power(5,3)"
   ]
  },
  {
   "cell_type": "code",
   "execution_count": null,
   "id": "3a9ea7ac-95a8-4588-a2ae-9cfbad8fadc1",
   "metadata": {},
   "outputs": [],
   "source": []
  }
 ],
 "metadata": {
  "kernelspec": {
   "display_name": "Python 3 (ipykernel)",
   "language": "python",
   "name": "python3"
  },
  "language_info": {
   "codemirror_mode": {
    "name": "ipython",
    "version": 3
   },
   "file_extension": ".py",
   "mimetype": "text/x-python",
   "name": "python",
   "nbconvert_exporter": "python",
   "pygments_lexer": "ipython3",
   "version": "3.12.4"
  }
 },
 "nbformat": 4,
 "nbformat_minor": 5
}
