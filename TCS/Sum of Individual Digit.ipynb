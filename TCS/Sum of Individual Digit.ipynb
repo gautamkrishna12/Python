{
 "cells": [
  {
   "cell_type": "code",
   "execution_count": 13,
   "id": "ce043a02-b07a-4292-8f2b-0ecf6505a753",
   "metadata": {},
   "outputs": [
    {
     "name": "stdin",
     "output_type": "stream",
     "text": [
      " 10\n"
     ]
    },
    {
     "name": "stdout",
     "output_type": "stream",
     "text": [
      "1\n"
     ]
    }
   ],
   "source": [
    "#Normal\n",
    "Sum=0\n",
    "n=int(input())\n",
    "while n>0:\n",
    "    Sum+=n%10\n",
    "    n//=10\n",
    "print(Sum)"
   ]
  },
  {
   "cell_type": "code",
   "execution_count": 17,
   "id": "7b00ff5e-91f0-405a-b3e5-261d134f0aad",
   "metadata": {},
   "outputs": [],
   "source": [
    "#Using Recursion\n",
    "def GetSUM(num):\n",
    "    if num==0:\n",
    "        return 0\n",
    "    return num%10+GetSUM(num=num//10)"
   ]
  },
  {
   "cell_type": "code",
   "execution_count": 19,
   "id": "9d23731c-bb15-446e-b93f-af090fc4ae54",
   "metadata": {},
   "outputs": [
    {
     "data": {
      "text/plain": [
       "7"
      ]
     },
     "execution_count": 19,
     "metadata": {},
     "output_type": "execute_result"
    }
   ],
   "source": [
    "GetSUM(124)"
   ]
  },
  {
   "cell_type": "code",
   "execution_count": null,
   "id": "18ffc3ba-00c5-4e8d-95b0-77f5969d153c",
   "metadata": {},
   "outputs": [],
   "source": []
  }
 ],
 "metadata": {
  "kernelspec": {
   "display_name": "Python 3 (ipykernel)",
   "language": "python",
   "name": "python3"
  },
  "language_info": {
   "codemirror_mode": {
    "name": "ipython",
    "version": 3
   },
   "file_extension": ".py",
   "mimetype": "text/x-python",
   "name": "python",
   "nbconvert_exporter": "python",
   "pygments_lexer": "ipython3",
   "version": "3.12.4"
  }
 },
 "nbformat": 4,
 "nbformat_minor": 5
}
