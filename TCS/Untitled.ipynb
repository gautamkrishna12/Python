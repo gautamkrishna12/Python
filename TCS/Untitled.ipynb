{
 "cells": [
  {
   "cell_type": "code",
   "execution_count": 13,
   "id": "7ba837f9-5e60-4972-9500-48d394fce8b3",
   "metadata": {},
   "outputs": [],
   "source": [
    "def MostRepeating(arr,n):\n",
    "    most=0\n",
    "    for i in set(arr):\n",
    "        if arr.count(i)>n//3:\n",
    "            most=i\n",
    "    return most"
   ]
  },
  {
   "cell_type": "code",
   "execution_count": 15,
   "id": "8cdd861d-af60-44d6-8179-e6c16c93b25a",
   "metadata": {},
   "outputs": [
    {
     "name": "stdin",
     "output_type": "stream",
     "text": [
      " [1,2,3,4,4,4,6,7,8,2,2,2,2]\n"
     ]
    },
    {
     "data": {
      "text/plain": [
       "2"
      ]
     },
     "execution_count": 15,
     "metadata": {},
     "output_type": "execute_result"
    }
   ],
   "source": [
    "arr=list(map(int,input().strip(\"[]\").split(',')))\n",
    "MostRepeating(arr,len(arr))"
   ]
  },
  {
   "cell_type": "code",
   "execution_count": 17,
   "id": "02a52d48-6681-4134-b134-e46f13d7777e",
   "metadata": {},
   "outputs": [
    {
     "data": {
      "text/plain": [
       "{1, 2, 3, 4, 6, 7, 8}"
      ]
     },
     "execution_count": 17,
     "metadata": {},
     "output_type": "execute_result"
    }
   ],
   "source": [
    "set([1,2,3,4,4,4,6,7,8,2,2,2,2])"
   ]
  },
  {
   "cell_type": "code",
   "execution_count": 21,
   "id": "1804447f-816b-4aac-a943-6ee3d963d2fd",
   "metadata": {},
   "outputs": [
    {
     "name": "stdout",
     "output_type": "stream",
     "text": [
      "[1, 2, 2, 3, 4, 5, 6]\n"
     ]
    }
   ],
   "source": [
    "mylist=[1,2,6,3,4,5,2]\n",
    "for i in range(len(mylist)):\n",
    "    for j in range(i,len(mylist)):\n",
    "        if mylist[j]<mylist[i]:\n",
    "            temp=mylist[i]\n",
    "            mylist[i]=mylist[j]\n",
    "            mylist[j]=temp\n",
    "print(mylist)"
   ]
  },
  {
   "cell_type": "code",
   "execution_count": 29,
   "id": "6351951f-a36e-4b8f-91b8-1d8755cbe12d",
   "metadata": {},
   "outputs": [
    {
     "name": "stdin",
     "output_type": "stream",
     "text": [
      " [3,6,3,7,6,3,7]\n"
     ]
    },
    {
     "name": "stdout",
     "output_type": "stream",
     "text": [
      "[3, 3, 3, 6, 6, 7, 7]\n"
     ]
    }
   ],
   "source": [
    "arr=list(map(int,input().strip(\"[]\").split(',')))\n",
    "red=arr.count(3)\n",
    "white=arr.count(6)\n",
    "blue=arr.count(7)\n",
    "sorted=[]\n",
    "for i in range(red):\n",
    "    sorted.append(3)\n",
    "for i in range(white):\n",
    "    sorted.append(6)\n",
    "for i in range(blue):\n",
    "    sorted.append(7)\n",
    "print(sorted)"
   ]
  },
  {
   "cell_type": "code",
   "execution_count": 33,
   "id": "ba81d9e5-b1cf-4af0-9dcc-d4814f477c40",
   "metadata": {},
   "outputs": [
    {
     "data": {
      "text/plain": [
       "[3, 3, 3, 4, 4, 4, 4, 4, 4, 4, 4, 4, 4]"
      ]
     },
     "execution_count": 33,
     "metadata": {},
     "output_type": "execute_result"
    }
   ],
   "source": [
    "[3]*3+[4]*10"
   ]
  },
  {
   "cell_type": "code",
   "execution_count": null,
   "id": "0fdea38c-1139-4924-ad5e-f18d9333ca4a",
   "metadata": {},
   "outputs": [],
   "source": []
  }
 ],
 "metadata": {
  "kernelspec": {
   "display_name": "Python 3 (ipykernel)",
   "language": "python",
   "name": "python3"
  },
  "language_info": {
   "codemirror_mode": {
    "name": "ipython",
    "version": 3
   },
   "file_extension": ".py",
   "mimetype": "text/x-python",
   "name": "python",
   "nbconvert_exporter": "python",
   "pygments_lexer": "ipython3",
   "version": "3.12.4"
  }
 },
 "nbformat": 4,
 "nbformat_minor": 5
}
