{
 "cells": [
  {
   "cell_type": "code",
   "execution_count": 7,
   "id": "7041fa84-af73-470e-b16a-bda597c3d106",
   "metadata": {},
   "outputs": [
    {
     "name": "stdout",
     "output_type": "stream",
     "text": [
      "96\n"
     ]
    }
   ],
   "source": [
    "def AND(arr, n) :\n",
    "    res = arr[0]\n",
    "    for i in range(1, n):\n",
    "        res &= arr[i]\n",
    "        if res == 0:\n",
    "            return 0\n",
    "    return res\n",
    "    \n",
    "if __name__ == \"__main__\" :\n",
    " \n",
    "    a = [ 100, 500, 1000]\n",
    " \n",
    "    n = len(a)\n",
    "    \n",
    "    print(AND(a, n))\n",
    " "
   ]
  },
  {
   "cell_type": "code",
   "execution_count": 1,
   "id": "2bc20f60-cfc4-45e7-adc6-1ad697d6d4a7",
   "metadata": {},
   "outputs": [],
   "source": [
    "def SubarrBItwiseAND(arr):\n",
    "    res=arr[0]\n",
    "    for i in range(1,len(arr)):\n",
    "        res&=arr[i]\n",
    "        if res==0:\n",
    "            return 0\n",
    "    return res"
   ]
  },
  {
   "cell_type": "code",
   "execution_count": 13,
   "id": "363686b1-1c19-4ddd-ac0b-8354b6938e85",
   "metadata": {},
   "outputs": [
    {
     "data": {
      "text/plain": [
       "96"
      ]
     },
     "execution_count": 13,
     "metadata": {},
     "output_type": "execute_result"
    }
   ],
   "source": [
    "SubarrBItwiseAND([100,500,1000])"
   ]
  },
  {
   "cell_type": "code",
   "execution_count": null,
   "id": "cb6ded67-d869-4875-9a4b-e8a413ac4459",
   "metadata": {},
   "outputs": [],
   "source": []
  }
 ],
 "metadata": {
  "kernelspec": {
   "display_name": "Python 3 (ipykernel)",
   "language": "python",
   "name": "python3"
  },
  "language_info": {
   "codemirror_mode": {
    "name": "ipython",
    "version": 3
   },
   "file_extension": ".py",
   "mimetype": "text/x-python",
   "name": "python",
   "nbconvert_exporter": "python",
   "pygments_lexer": "ipython3",
   "version": "3.12.4"
  }
 },
 "nbformat": 4,
 "nbformat_minor": 5
}
