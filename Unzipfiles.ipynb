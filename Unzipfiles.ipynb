{
 "cells": [
  {
   "cell_type": "code",
   "execution_count": null,
   "id": "91b02f47",
   "metadata": {},
   "outputs": [],
   "source": [
    "#Python Program to Upzip a file"
   ]
  },
  {
   "cell_type": "code",
   "execution_count": null,
   "id": "90c109f1",
   "metadata": {},
   "outputs": [],
   "source": [
    "import zipfile"
   ]
  },
  {
   "cell_type": "code",
   "execution_count": null,
   "id": "323fcdd8",
   "metadata": {},
   "outputs": [],
   "source": [
    "def choice():\n",
    "    print(\"Enter 'y' to continue,'n' to exit\")\n",
    "    ch=''\n",
    "    while (ch not in ['y','n']):\n",
    "        ch=input('Enter your choice :')\n",
    "        if(ch not in['y','n']):\n",
    "            print('Wrong choice')\n",
    "    if(ch=='y'):\n",
    "        return True\n",
    "    else:\n",
    "        return False"
   ]
  },
  {
   "cell_type": "code",
   "execution_count": null,
   "id": "87024259",
   "metadata": {},
   "outputs": [],
   "source": [
    "while True:\n",
    "    Source=input('Enter the zip file path : ')\n",
    "    destination=input('Enter the location of new file : ')\n",
    "    try:\n",
    "        zip_obj=zipfile.ZipFile(Source,'r')\n",
    "        zip_obj.extractall(destination)\n",
    "    except:\n",
    "        print('Check the file path.')\n",
    "    else:\n",
    "        print('Unpacked the ZipFile.')\n",
    "    print('Do you want to unpack any other files.')\n",
    "    if(choice()):\n",
    "        pass\n",
    "    else:\n",
    "        break"
   ]
  }
 ],
 "metadata": {
  "kernelspec": {
   "display_name": "Python 3 (ipykernel)",
   "language": "python",
   "name": "python3"
  },
  "language_info": {
   "codemirror_mode": {
    "name": "ipython",
    "version": 3
   },
   "file_extension": ".py",
   "mimetype": "text/x-python",
   "name": "python",
   "nbconvert_exporter": "python",
   "pygments_lexer": "ipython3",
   "version": "3.9.13"
  }
 },
 "nbformat": 4,
 "nbformat_minor": 5
}
