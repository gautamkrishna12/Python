{
 "cells": [
  {
   "cell_type": "code",
   "execution_count": 1,
   "id": "d70ea41b-a4c9-41da-8934-5cae844de56a",
   "metadata": {},
   "outputs": [],
   "source": [
    "import nltk"
   ]
  },
  {
   "cell_type": "code",
   "execution_count": 2,
   "id": "5a5e7633-2894-4be4-be84-9ef04b4b553c",
   "metadata": {},
   "outputs": [
    {
     "name": "stdin",
     "output_type": "stream",
     "text": [
      "Enter the text :  Hello Hello how old old are you\n"
     ]
    }
   ],
   "source": [
    "text=input(\"Enter the text : \")\n",
    "words=nltk.word_tokenize(text)"
   ]
  },
  {
   "cell_type": "code",
   "execution_count": 5,
   "id": "7831e2de-ecd0-4d7e-ad9b-cd55df28f025",
   "metadata": {},
   "outputs": [],
   "source": [
    "unique_words=set(words)"
   ]
  },
  {
   "cell_type": "code",
   "execution_count": 11,
   "id": "83211b0e-01e1-496d-83ae-18755a50b4f6",
   "metadata": {},
   "outputs": [
    {
     "name": "stdout",
     "output_type": "stream",
     "text": [
      "The given words : ['Hello', 'Hello', 'how', 'old', 'old', 'are', 'you']\n",
      "Unique words : {'you', 'old', 'are', 'Hello', 'how'}\n"
     ]
    }
   ],
   "source": [
    "print(f\"The given words : {words}\")\n",
    "print(f\"Unique words : {unique_words}\") "
   ]
  },
  {
   "cell_type": "code",
   "execution_count": 9,
   "id": "98238bdd-2200-462f-8add-35a10eb7d007",
   "metadata": {},
   "outputs": [
    {
     "name": "stdout",
     "output_type": "stream",
     "text": [
      "Number of words : 7\n",
      "Number of unique: 5\n",
      "Percentage of unique words : 71.42857142857143\n"
     ]
    }
   ],
   "source": [
    "print(f\"Number of words : {len(words)}\")\n",
    "print(f\"Number of unique: {len(unique_words)}\")\n",
    "print(f\"Percentage of unique words : {len(unique_words)*100/len(words)}\")"
   ]
  },
  {
   "cell_type": "code",
   "execution_count": 14,
   "id": "92b85ec5-eca2-4530-a0f6-ad7ecd071124",
   "metadata": {},
   "outputs": [
    {
     "data": {
      "text/plain": [
       "Counter({'Hello': 2, 'old': 2, 'how': 1, 'are': 1, 'you': 1})"
      ]
     },
     "execution_count": 14,
     "metadata": {},
     "output_type": "execute_result"
    }
   ],
   "source": [
    "from collections import Counter\n",
    "Counter(text.split())"
   ]
  },
  {
   "cell_type": "code",
   "execution_count": null,
   "id": "80a94442-1780-46b9-ad08-70fd5ded2cd5",
   "metadata": {},
   "outputs": [],
   "source": []
  }
 ],
 "metadata": {
  "kernelspec": {
   "display_name": "Python 3 (ipykernel)",
   "language": "python",
   "name": "python3"
  },
  "language_info": {
   "codemirror_mode": {
    "name": "ipython",
    "version": 3
   },
   "file_extension": ".py",
   "mimetype": "text/x-python",
   "name": "python",
   "nbconvert_exporter": "python",
   "pygments_lexer": "ipython3",
   "version": "3.11.7"
  }
 },
 "nbformat": 4,
 "nbformat_minor": 5
}
