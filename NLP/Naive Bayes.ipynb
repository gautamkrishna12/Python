{
 "cells": [
  {
   "cell_type": "code",
   "execution_count": 1,
   "id": "1d19edd6-9398-4fb2-86e7-5d7cd9f78eca",
   "metadata": {},
   "outputs": [],
   "source": [
    "import nltk\n",
    "from nltk.corpus import movie_reviews\n",
    "from nltk.tokenize import word_tokenize\n",
    "from nltk.stem import WordNetLemmatizer\n",
    "from nltk.corpus import stopwords\n",
    "from nltk.classify import NaiveBayesClassifier"
   ]
  },
  {
   "cell_type": "code",
   "execution_count": 35,
   "id": "3c2332a4-6ff5-4f1b-bc26-6d8e9e1a4961",
   "metadata": {},
   "outputs": [],
   "source": [
    "lemmatizer=WordNetLemmatizer()\n",
    "def Preprocess(text):\n",
    "    tokens=word_tokenize(text.lower())\n",
    "    tokens=[lemmatizer.lemmatize(word) for word in tokens if word not in stopwords.words('english') and word.isalpha()]\n",
    "    return dict(nltk.FreqDist(tokens))"
   ]
  },
  {
   "cell_type": "code",
   "execution_count": 22,
   "id": "8805328c-ad82-4ca3-8c82-eff17f4d622f",
   "metadata": {},
   "outputs": [],
   "source": [
    "pos_reviews=[(movie_reviews.raw(file),'positive') for file in movie_reviews.fileids('pos')]"
   ]
  },
  {
   "cell_type": "code",
   "execution_count": 28,
   "id": "2a43c77c-849d-4fcf-ac6e-6e58f2a919e8",
   "metadata": {},
   "outputs": [],
   "source": [
    "neg_reviews=[(movie_reviews.raw(file),'negitive')for file in movie_reviews.fileids('neg')]"
   ]
  },
  {
   "cell_type": "code",
   "execution_count": 32,
   "id": "bfee4b9f-4e0b-45c7-ad0d-c3c7c243a21a",
   "metadata": {},
   "outputs": [],
   "source": [
    "total_review=pos_reviews+neg_reviews"
   ]
  },
  {
   "cell_type": "code",
   "execution_count": 36,
   "id": "390f1129-120d-41f8-85d3-5095020ded09",
   "metadata": {},
   "outputs": [],
   "source": [
    "Prepocess_data=[(Preprocess(text),label) for (text,label) in total_review]"
   ]
  },
  {
   "cell_type": "code",
   "execution_count": 37,
   "id": "f6ff9805-ce09-402d-b1db-50a72fd79ad7",
   "metadata": {},
   "outputs": [],
   "source": [
    "from sklearn.model_selection import train_test_split"
   ]
  },
  {
   "cell_type": "code",
   "execution_count": 38,
   "id": "d1358863-301a-4215-8b0b-439a591fc54c",
   "metadata": {},
   "outputs": [],
   "source": [
    "train,test=train_test_split(Prepocess_data,test_size=0.2,random_state=42)"
   ]
  },
  {
   "cell_type": "code",
   "execution_count": 39,
   "id": "8cf898d8-b8ff-475a-af83-29e38aced92c",
   "metadata": {},
   "outputs": [],
   "source": [
    "classifier=NaiveBayesClassifier.train(train)"
   ]
  },
  {
   "cell_type": "code",
   "execution_count": 43,
   "id": "9e131542-afcc-4d76-b6b8-5bc29a2dd8da",
   "metadata": {},
   "outputs": [
    {
     "name": "stdout",
     "output_type": "stream",
     "text": [
      "Actual :negitive   Predicted :positive\n",
      "Actual :positive   Predicted :positive\n",
      "Actual :negitive   Predicted :positive\n",
      "Actual :positive   Predicted :positive\n",
      "Actual :negitive   Predicted :positive\n",
      "Actual :negitive   Predicted :positive\n",
      "Actual :positive   Predicted :positive\n",
      "Actual :negitive   Predicted :positive\n",
      "Actual :positive   Predicted :positive\n",
      "Actual :negitive   Predicted :negitive\n"
     ]
    }
   ],
   "source": [
    "for i in test[:10]:\n",
    "    pred=classifier.classify(i[0])\n",
    "    print(f\"Actual :{i[1]}   Predicted :{pred}\")"
   ]
  },
  {
   "cell_type": "code",
   "execution_count": 45,
   "id": "f0efca36-b9f9-4e5b-8a06-5c3155bb10c0",
   "metadata": {},
   "outputs": [
    {
     "name": "stdout",
     "output_type": "stream",
     "text": [
      "positive\n",
      "negitive\n"
     ]
    }
   ],
   "source": [
    "new_text=['The movie is good','the movie is worst']\n",
    "for i in new_text:\n",
    "    print(classifier.classify(Preprocess(i)))"
   ]
  },
  {
   "cell_type": "code",
   "execution_count": 46,
   "id": "1ed2df78-14fb-4ab3-82f5-3fe1d2aa3aeb",
   "metadata": {},
   "outputs": [],
   "source": [
    "import nltk\n",
    "from nltk.tokenize import word_tokenize\n",
    "from nltk.corpus import movie_reviews\n",
    "from nltk.stem import WordNetLemmatizer\n",
    "from nltk.corpus import stopwords\n",
    "from nltk.classify import NaiveBayesClassifier"
   ]
  },
  {
   "cell_type": "code",
   "execution_count": null,
   "id": "098b5a69-d414-4a83-8592-ea3aabee3f74",
   "metadata": {},
   "outputs": [],
   "source": [
    "def Preprocess(text):\n",
    "    tokens=word_tokenize(text.lower())\n",
    "    tokens=[words for words in tokens if words not in stopwords.words('english') and words.isalpha()]\n",
    "    return dict(nltk.FreqDist(tokens))\n",
    "\n",
    "pos_rev=[(movie_reviews.raw(file),'positive') for file in movie_reviews.fileids('pos')]\n",
    "neg_rev=[(movie_reviews.raw(file),'negitive') for file in movie_reviews.fileids('neg')]\n",
    "\n",
    "Reviews=pos_reviews+neg_reviews\n",
    "\n",
    "Preprocesed_reviews=[(Preprocess(text),label) for (text,label) in Reviews]\n",
    "\n",
    "classifier=NaiveBayesClassifier()\n",
    "classifier.train(tra"
   ]
  }
 ],
 "metadata": {
  "kernelspec": {
   "display_name": "Python 3 (ipykernel)",
   "language": "python",
   "name": "python3"
  },
  "language_info": {
   "codemirror_mode": {
    "name": "ipython",
    "version": 3
   },
   "file_extension": ".py",
   "mimetype": "text/x-python",
   "name": "python",
   "nbconvert_exporter": "python",
   "pygments_lexer": "ipython3",
   "version": "3.11.7"
  }
 },
 "nbformat": 4,
 "nbformat_minor": 5
}
