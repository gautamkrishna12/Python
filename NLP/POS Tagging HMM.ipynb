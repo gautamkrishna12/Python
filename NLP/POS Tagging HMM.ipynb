{
 "cells": [
  {
   "cell_type": "code",
   "execution_count": 24,
   "id": "d55e14c9-e38b-45fb-8121-236b99d96482",
   "metadata": {},
   "outputs": [
    {
     "name": "stdin",
     "output_type": "stream",
     "text": [
      "Enter the sentence to tag:  The sky is bright today\n"
     ]
    },
    {
     "name": "stdout",
     "output_type": "stream",
     "text": [
      "[('The', 'AT'), ('sky', 'NN'), ('is', 'BEZ'), ('bright', 'JJ'), ('today', 'NR')]\n"
     ]
    }
   ],
   "source": [
    "import nltk\n",
    "from nltk.corpus import brown\n",
    "\n",
    "def trainer():\n",
    "    tagged_sentences = brown.tagged_sents(categories='news')\n",
    "    symbols = set([word for sentence in tagged_sentences for word, _ in sentence])\n",
    "    states = set([tag for sentence in tagged_sentences for _, tag in sentence])\n",
    "    trainer = nltk.tag.hmm.HiddenMarkovModelTrainer(states=states, symbols=symbols)\n",
    "    hmm_tagger = trainer.train_supervised(tagged_sentences)\n",
    "    return hmm_tagger\n",
    "\n",
    "def pos_tag(sentence, tagger):\n",
    "    tokens = nltk.tokenize.word_tokenize(sentence)\n",
    "    tagged = tagger.tag(tokens)\n",
    "    return tagged\n",
    "hmm_tagger = trainer()\n",
    "user_input = input(\"Enter the sentence to tag: \")\n",
    "print(pos_tag(user_input, hmm_tagger))\n"
   ]
  }
 ],
 "metadata": {
  "kernelspec": {
   "display_name": "Python 3 (ipykernel)",
   "language": "python",
   "name": "python3"
  },
  "language_info": {
   "codemirror_mode": {
    "name": "ipython",
    "version": 3
   },
   "file_extension": ".py",
   "mimetype": "text/x-python",
   "name": "python",
   "nbconvert_exporter": "python",
   "pygments_lexer": "ipython3",
   "version": "3.11.7"
  }
 },
 "nbformat": 4,
 "nbformat_minor": 5
}
