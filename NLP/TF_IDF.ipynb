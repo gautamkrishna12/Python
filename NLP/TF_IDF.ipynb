{
 "cells": [
  {
   "cell_type": "code",
   "execution_count": 1,
   "id": "da38e3f2-1c03-4a47-813b-0eedb5a29a5a",
   "metadata": {},
   "outputs": [],
   "source": [
    "corpus=[\"This is the first document\",\n",
    "        \"This document is the second document\",\n",
    "        \"And this is the third one\",\n",
    "        \"Is thisthe first document\"]\n",
    "document=\"This is the second document\""
   ]
  },
  {
   "cell_type": "code",
   "execution_count": 2,
   "id": "afd03ed5-e875-4e66-919e-1178ce89e326",
   "metadata": {},
   "outputs": [
    {
     "name": "stdout",
     "output_type": "stream",
     "text": [
      "and  :  1.916290731874155\n",
      "document  :  1.2231435513142097\n",
      "first  :  1.5108256237659907\n",
      "is  :  1.0\n",
      "one  :  1.916290731874155\n",
      "second  :  1.916290731874155\n",
      "the  :  1.2231435513142097\n",
      "third  :  1.916290731874155\n",
      "this  :  1.2231435513142097\n",
      "thisthe  :  1.916290731874155\n"
     ]
    }
   ],
   "source": [
    "from sklearn.feature_extraction.text import TfidfVectorizer\n",
    "\n",
    "tfidf=TfidfVectorizer()\n",
    "\n",
    "tfidf.fit_transform(corpus)\n",
    "\n",
    "for i,j in zip(tfidf.get_feature_names_out(),tfidf.idf_):\n",
    "    print(i,\" : \",j)"
   ]
  },
  {
   "cell_type": "code",
   "execution_count": 3,
   "id": "ebe83a2b-dc20-44eb-8d20-973edfae4ce0",
   "metadata": {},
   "outputs": [],
   "source": [
    "from nltk.tokenize import word_tokenize\n",
    "from nltk.corpus import stopwords\n",
    "from nltk.stem import PorterStemmer\n",
    "import math"
   ]
  },
  {
   "cell_type": "code",
   "execution_count": 4,
   "id": "6600dbf2-9aba-43b6-ad7e-c09477be50a3",
   "metadata": {},
   "outputs": [],
   "source": [
    "def TF(document,word):\n",
    "    return document.count(word)/len(document)"
   ]
  },
  {
   "cell_type": "code",
   "execution_count": 5,
   "id": "88cb43e6-bd10-4d9d-a3b2-4cdb7ce7c7bf",
   "metadata": {},
   "outputs": [],
   "source": [
    "def IDF(corpus,word):\n",
    "    doc_with_word=len([ for i in corpus if word in corpus])\n",
    "    if doc_with_word==0:\n",
    "        return 0\n",
    "    else:\n",
    "        return math.log(len(corpus)/doc_with_word)"
   ]
  },
  {
   "cell_type": "code",
   "execution_count": 9,
   "id": "f6a884ea-3604-48de-9361-a5df65ba1c7f",
   "metadata": {},
   "outputs": [],
   "source": [
    "def TF_IDF(corpus,document):\n",
    "    stemmer=PorterStemmer()\n",
    "    words=[word.lower() for word in word_tokenize(document) if word.lower() not in stopwords.words('english')]\n",
    "    words=[stemmer.stem(word) for word in words]\n",
    "    TFIDF={}\n",
    "    for i in words:\n",
    "        if i not in TFIDF:\n",
    "            TFIDF[i]=TF(words,i)*IDF(corpus,i)\n",
    "    return TFIDF"
   ]
  },
  {
   "cell_type": "code",
   "execution_count": 10,
   "id": "7e6372f3-3cc2-4920-916f-aebae9cf1d61",
   "metadata": {},
   "outputs": [
    {
     "data": {
      "text/plain": [
       "{'second': 0.0, 'document': 0.0}"
      ]
     },
     "execution_count": 10,
     "metadata": {},
     "output_type": "execute_result"
    }
   ],
   "source": [
    "TF_IDF(corpus,document)"
   ]
  },
  {
   "cell_type": "code",
   "execution_count": 11,
   "id": "11ff2f9b-d5a4-4a7c-997a-41cc6abcca99",
   "metadata": {},
   "outputs": [
    {
     "data": {
      "text/plain": [
       "0"
      ]
     },
     "execution_count": 11,
     "metadata": {},
     "output_type": "execute_result"
    }
   ],
   "source": [
    "IDF(corpus,'second')"
   ]
  },
  {
   "cell_type": "code",
   "execution_count": null,
   "id": "c4b565e7-0fda-455f-8b7f-ba8fab2cb026",
   "metadata": {},
   "outputs": [],
   "source": []
  }
 ],
 "metadata": {
  "kernelspec": {
   "display_name": "Python 3 (ipykernel)",
   "language": "python",
   "name": "python3"
  },
  "language_info": {
   "codemirror_mode": {
    "name": "ipython",
    "version": 3
   },
   "file_extension": ".py",
   "mimetype": "text/x-python",
   "name": "python",
   "nbconvert_exporter": "python",
   "pygments_lexer": "ipython3",
   "version": "3.11.7"
  }
 },
 "nbformat": 4,
 "nbformat_minor": 5
}
