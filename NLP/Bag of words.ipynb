{
 "cells": [
  {
   "cell_type": "code",
   "execution_count": 1,
   "id": "5de163c0-421d-49c5-a36f-f91cd2644956",
   "metadata": {},
   "outputs": [],
   "source": [
    "from sklearn.feature_extraction.text import CountVectorizer"
   ]
  },
  {
   "cell_type": "code",
   "execution_count": 2,
   "id": "fb60f162-8c66-4544-be8e-5b05b528b514",
   "metadata": {},
   "outputs": [],
   "source": [
    "corpus=[\"Hello I am from India\",\"Hello this is a call from Sweeden\",\n",
    "        \"Hai I want to go USA\",\"This is may home town\"]"
   ]
  },
  {
   "cell_type": "code",
   "execution_count": 8,
   "id": "b9399ad4-dc14-419f-9a3e-29b0e21cc97c",
   "metadata": {},
   "outputs": [],
   "source": [
    "vectorizer=CountVectorizer(stop_words='english')"
   ]
  },
  {
   "cell_type": "code",
   "execution_count": 9,
   "id": "682a3820-d5f5-44b6-be79-d5d7150e0dab",
   "metadata": {},
   "outputs": [],
   "source": [
    "V_fit=vectorizer.fit_transform(corpus)\n",
    "V_array=V_fit.toarray()"
   ]
  },
  {
   "cell_type": "code",
   "execution_count": 10,
   "id": "fdcbe38d-5816-4f47-b3ef-17ce3a5eced5",
   "metadata": {},
   "outputs": [
    {
     "name": "stdout",
     "output_type": "stream",
     "text": [
      "BOW representaion of Documnet1 :[0 1 0 1 0 0 0 0]\n",
      "BOW representaion of Documnet2 :[0 1 0 0 1 0 0 0]\n",
      "BOW representaion of Documnet3 :[1 0 0 0 0 0 1 1]\n",
      "BOW representaion of Documnet4 :[0 0 1 0 0 1 0 0]\n"
     ]
    }
   ],
   "source": [
    "for i in range(len(corpus)):\n",
    "    print(f\"BOW representaion of Documnet{i+1} :{V_array[i]}\")"
   ]
  },
  {
   "cell_type": "code",
   "execution_count": 18,
   "id": "d754474d-f3e4-4005-bfae-af120e053625",
   "metadata": {},
   "outputs": [
    {
     "data": {
      "text/html": [
       "<div>\n",
       "<style scoped>\n",
       "    .dataframe tbody tr th:only-of-type {\n",
       "        vertical-align: middle;\n",
       "    }\n",
       "\n",
       "    .dataframe tbody tr th {\n",
       "        vertical-align: top;\n",
       "    }\n",
       "\n",
       "    .dataframe thead th {\n",
       "        text-align: right;\n",
       "    }\n",
       "</style>\n",
       "<table border=\"1\" class=\"dataframe\">\n",
       "  <thead>\n",
       "    <tr style=\"text-align: right;\">\n",
       "      <th></th>\n",
       "      <th>hai</th>\n",
       "      <th>hello</th>\n",
       "      <th>home</th>\n",
       "      <th>india</th>\n",
       "      <th>sweeden</th>\n",
       "      <th>town</th>\n",
       "      <th>usa</th>\n",
       "      <th>want</th>\n",
       "    </tr>\n",
       "  </thead>\n",
       "  <tbody>\n",
       "    <tr>\n",
       "      <th>Doc1</th>\n",
       "      <td>0</td>\n",
       "      <td>1</td>\n",
       "      <td>0</td>\n",
       "      <td>1</td>\n",
       "      <td>0</td>\n",
       "      <td>0</td>\n",
       "      <td>0</td>\n",
       "      <td>0</td>\n",
       "    </tr>\n",
       "    <tr>\n",
       "      <th>Doc2</th>\n",
       "      <td>0</td>\n",
       "      <td>1</td>\n",
       "      <td>0</td>\n",
       "      <td>0</td>\n",
       "      <td>1</td>\n",
       "      <td>0</td>\n",
       "      <td>0</td>\n",
       "      <td>0</td>\n",
       "    </tr>\n",
       "    <tr>\n",
       "      <th>Doc3</th>\n",
       "      <td>1</td>\n",
       "      <td>0</td>\n",
       "      <td>0</td>\n",
       "      <td>0</td>\n",
       "      <td>0</td>\n",
       "      <td>0</td>\n",
       "      <td>1</td>\n",
       "      <td>1</td>\n",
       "    </tr>\n",
       "    <tr>\n",
       "      <th>Doc4</th>\n",
       "      <td>0</td>\n",
       "      <td>0</td>\n",
       "      <td>1</td>\n",
       "      <td>0</td>\n",
       "      <td>0</td>\n",
       "      <td>1</td>\n",
       "      <td>0</td>\n",
       "      <td>0</td>\n",
       "    </tr>\n",
       "  </tbody>\n",
       "</table>\n",
       "</div>"
      ],
      "text/plain": [
       "      hai  hello  home  india  sweeden  town  usa  want\n",
       "Doc1    0      1     0      1        0     0    0     0\n",
       "Doc2    0      1     0      0        1     0    0     0\n",
       "Doc3    1      0     0      0        0     0    1     1\n",
       "Doc4    0      0     1      0        0     1    0     0"
      ]
     },
     "execution_count": 18,
     "metadata": {},
     "output_type": "execute_result"
    }
   ],
   "source": [
    "import pandas as pd\n",
    "pd.DataFrame(V_array,index='Doc1 Doc2 Doc3 Doc4'.split(),columns=vectorizer.get_feature_names_out())"
   ]
  },
  {
   "cell_type": "code",
   "execution_count": null,
   "id": "2e8465b5-d153-4966-8414-b99f402f8ed0",
   "metadata": {},
   "outputs": [],
   "source": []
  }
 ],
 "metadata": {
  "kernelspec": {
   "display_name": "Python 3 (ipykernel)",
   "language": "python",
   "name": "python3"
  },
  "language_info": {
   "codemirror_mode": {
    "name": "ipython",
    "version": 3
   },
   "file_extension": ".py",
   "mimetype": "text/x-python",
   "name": "python",
   "nbconvert_exporter": "python",
   "pygments_lexer": "ipython3",
   "version": "3.11.7"
  }
 },
 "nbformat": 4,
 "nbformat_minor": 5
}
