{
 "cells": [
  {
   "cell_type": "code",
   "execution_count": 1,
   "id": "cddd888f-d849-4f5f-9261-a61448404955",
   "metadata": {},
   "outputs": [],
   "source": [
    "import nltk\n",
    "from nltk.chat.util import Chat,reflections"
   ]
  },
  {
   "cell_type": "code",
   "execution_count": 3,
   "id": "f823e738-aa40-464c-b423-d54993d2e4c0",
   "metadata": {},
   "outputs": [
    {
     "name": "stdin",
     "output_type": "stream",
     "text": [
      "> Hei\n"
     ]
    },
    {
     "name": "stdout",
     "output_type": "stream",
     "text": [
      "Amban ithu Nooku\n"
     ]
    },
    {
     "name": "stdin",
     "output_type": "stream",
     "text": [
      "> Hai\n"
     ]
    },
    {
     "name": "stdout",
     "output_type": "stream",
     "text": [
      "Njan Ranga.\n",
      "Ninkku Antada Vende\n"
     ]
    },
    {
     "name": "stdin",
     "output_type": "stream",
     "text": [
      "> which is your favorit movie\n"
     ]
    },
    {
     "name": "stdout",
     "output_type": "stream",
     "text": [
      "Aavesham\n"
     ]
    },
    {
     "name": "stdin",
     "output_type": "stream",
     "text": [
      "> which is your favourit moie\n"
     ]
    },
    {
     "name": "stdout",
     "output_type": "stream",
     "text": [
      "Amban ithu Nooku\n"
     ]
    },
    {
     "name": "stdin",
     "output_type": "stream",
     "text": [
      "> which is your favorit movie\n"
     ]
    },
    {
     "name": "stdout",
     "output_type": "stream",
     "text": [
      "Chotta Mumbai\n"
     ]
    },
    {
     "name": "stdin",
     "output_type": "stream",
     "text": [
      "> quit\n"
     ]
    },
    {
     "name": "stdout",
     "output_type": "stream",
     "text": [
      "Ada mone Nannyiva!\n"
     ]
    }
   ],
   "source": [
    "Bot_Con=[\n",
    "    [r\"Hello|Hai|Hola\",\n",
    "     [\"Njan Ranga.\\nNinkku Antada Vende\"]],\n",
    "    [r\"Which is your favorit movie\",\n",
    "    [\"Chotta Mumbai\",\"Aavesham\"]],\n",
    "    [r\"quit\",\n",
    "    [\"Ada mone Nannyiva!\"]],\n",
    "    [r\"(.*)\",\n",
    "    [\"Amban ithu Nooku\"]]\n",
    "]\n",
    "bot=Chat(Bot_Con,reflections)\n",
    "bot.converse()"
   ]
  }
 ],
 "metadata": {
  "kernelspec": {
   "display_name": "Python 3 (ipykernel)",
   "language": "python",
   "name": "python3"
  },
  "language_info": {
   "codemirror_mode": {
    "name": "ipython",
    "version": 3
   },
   "file_extension": ".py",
   "mimetype": "text/x-python",
   "name": "python",
   "nbconvert_exporter": "python",
   "pygments_lexer": "ipython3",
   "version": "3.11.7"
  }
 },
 "nbformat": 4,
 "nbformat_minor": 5
}
