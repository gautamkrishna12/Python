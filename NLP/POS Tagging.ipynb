{
 "cells": [
  {
   "cell_type": "code",
   "execution_count": 1,
   "id": "2a68b6cb-c58a-4a35-89bb-c75b6daaea29",
   "metadata": {},
   "outputs": [],
   "source": [
    "import nltk\n",
    "from nltk.stem import WordNetLemmatizer\n",
    "from nltk.corpus import stopwords"
   ]
  },
  {
   "cell_type": "code",
   "execution_count": 7,
   "id": "d1fd1b7e-a202-46c7-97da-65ece57680cc",
   "metadata": {},
   "outputs": [
    {
     "data": {
      "text/plain": [
       "['NLTK', 'powerful', 'library', 'natural', 'language', 'processing', 'babies']"
      ]
     },
     "execution_count": 7,
     "metadata": {},
     "output_type": "execute_result"
    }
   ],
   "source": [
    "text=\"NLTK is a powerful library for natural language processing babies\"\n",
    "tokens=[t for t in nltk.word_tokenize(text) if t.lower() not in stopwords.words('english')]\n",
    "tokens"
   ]
  },
  {
   "cell_type": "code",
   "execution_count": 8,
   "id": "9d74375e-c8fb-4930-ae0f-305e4df55a5d",
   "metadata": {},
   "outputs": [
    {
     "data": {
      "text/plain": [
       "['NLTK', 'powerful', 'library', 'natural', 'language', 'processing', 'baby']"
      ]
     },
     "execution_count": 8,
     "metadata": {},
     "output_type": "execute_result"
    }
   ],
   "source": [
    "lemmatizer=WordNetLemmatizer()\n",
    "tokens=[lemmatizer.lemmatize(i) for i in tokens]\n",
    "tokens"
   ]
  },
  {
   "cell_type": "code",
   "execution_count": 9,
   "id": "8cce122b-7cce-4798-993d-95ca8be01b82",
   "metadata": {},
   "outputs": [],
   "source": [
    "pos_tagges=nltk.pos_tag(tokens)"
   ]
  },
  {
   "cell_type": "code",
   "execution_count": 11,
   "id": "ce5badf5-92aa-42a2-b81b-06815f18c44c",
   "metadata": {},
   "outputs": [
    {
     "name": "stdout",
     "output_type": "stream",
     "text": [
      "NLTK  :  NNP\n",
      "powerful  :  JJ\n",
      "library  :  JJ\n",
      "natural  :  JJ\n",
      "language  :  NN\n",
      "processing  :  NN\n",
      "baby  :  NN\n"
     ]
    }
   ],
   "source": [
    "for words,tag in pos_tagges:\n",
    "    print(words, \" : \",tag)"
   ]
  },
  {
   "cell_type": "code",
   "execution_count": null,
   "id": "b61c09b8-e87d-4e62-b146-45d9c329c56f",
   "metadata": {},
   "outputs": [],
   "source": []
  }
 ],
 "metadata": {
  "kernelspec": {
   "display_name": "Python 3 (ipykernel)",
   "language": "python",
   "name": "python3"
  },
  "language_info": {
   "codemirror_mode": {
    "name": "ipython",
    "version": 3
   },
   "file_extension": ".py",
   "mimetype": "text/x-python",
   "name": "python",
   "nbconvert_exporter": "python",
   "pygments_lexer": "ipython3",
   "version": "3.11.7"
  }
 },
 "nbformat": 4,
 "nbformat_minor": 5
}
