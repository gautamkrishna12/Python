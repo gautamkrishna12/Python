{
 "cells": [
  {
   "cell_type": "code",
   "execution_count": 1,
   "id": "45b11e72-c4d3-4495-b6a3-354c0b297c09",
   "metadata": {},
   "outputs": [],
   "source": [
    "import nltk\n",
    "import string"
   ]
  },
  {
   "cell_type": "code",
   "execution_count": 2,
   "id": "65a3cff0-20b8-4b4d-b4a4-8515098c037d",
   "metadata": {},
   "outputs": [
    {
     "name": "stdin",
     "output_type": "stream",
     "text": [
      "Enter the text :  Programmers,/! program with programming languages\n"
     ]
    }
   ],
   "source": [
    "text=input(\"Enter the text : \")"
   ]
  },
  {
   "cell_type": "code",
   "execution_count": 3,
   "id": "10078a1f-5bd0-4b39-8d1f-2ea429122310",
   "metadata": {},
   "outputs": [],
   "source": [
    "#removing punctuations\n",
    "nopunc=[word for word in text if word not in string.punctuation]\n",
    "nopunc=\"\".join(nopunc)"
   ]
  },
  {
   "cell_type": "code",
   "execution_count": 4,
   "id": "41fa288c-34a2-4401-8f9d-526b2977e481",
   "metadata": {},
   "outputs": [],
   "source": [
    "#Tokenization\n",
    "from nltk.tokenize import word_tokenize\n",
    "tokens=word_tokenize(nopunc)"
   ]
  },
  {
   "cell_type": "code",
   "execution_count": 5,
   "id": "c794a0c4-46e2-4c9a-8ddc-2d46a5fe76da",
   "metadata": {},
   "outputs": [],
   "source": [
    "#Stemming\n",
    "from nltk.stem import PorterStemmer\n",
    "stemmer=PorterStemmer()\n",
    "stemmed_tokens=[stemmer.stem(i) for i in tokens ]"
   ]
  },
  {
   "cell_type": "code",
   "execution_count": 9,
   "id": "f9ddf698-8a6e-4722-baf8-95e5e7cfd3fe",
   "metadata": {},
   "outputs": [],
   "source": [
    "#stopwords removal\n",
    "from nltk.corpus import stopwords\n",
    "rm_stwords=[words for words in stemmed_tokens if words not in stopwords.words('english')]"
   ]
  },
  {
   "cell_type": "code",
   "execution_count": 18,
   "id": "f5166d55-424a-4dd2-89f4-350a35e3fbcd",
   "metadata": {},
   "outputs": [
    {
     "name": "stdout",
     "output_type": "stream",
     "text": [
      "* Text without punctuation : Programmers program with programming languages\n",
      "\n",
      "* Tokenized text :['Programmers', 'program', 'with', 'programming', 'languages']\n",
      "\n",
      "* Stemmed tokens : ['programm', 'program', 'with', 'program', 'languag']\n",
      "\n",
      "* Tokens after removing stopwords : ['programm', 'program', 'program', 'languag']\n"
     ]
    }
   ],
   "source": [
    "print(\"* Text without punctuation : {}\\n\".format(nopunc))\n",
    "print(\"* Tokenized text :{}\\n\".format(tokens))\n",
    "print(f\"* Stemmed tokens : {stemmed_tokens}\\n\")\n",
    "print(\"* Tokens after removing stopwords : {}\".format(rm_stwords))"
   ]
  },
  {
   "cell_type": "code",
   "execution_count": 17,
   "id": "c2b30058-1c68-41ee-9a9e-4a1b4401c611",
   "metadata": {},
   "outputs": [
    {
     "name": "stdout",
     "output_type": "stream",
     "text": [
      "['running', 'better', 'sleeping', 'baby', 'walking', 'Feet', 'human', 'cat']\n"
     ]
    }
   ],
   "source": [
    "#Lemmatization\n",
    "from nltk.stem import WordNetLemmatizer\n",
    "words=['running','better','sleeping','babies','walking','Feet','humans','cats']\n",
    "lemmetizer=WordNetLemmatizer()\n",
    "new=[lemmetizer.lemmatize(word) for word in words]\n",
    "print(new)"
   ]
  },
  {
   "cell_type": "code",
   "execution_count": null,
   "id": "17b7fe22-988f-48f0-97ea-4a0d7680ea76",
   "metadata": {},
   "outputs": [],
   "source": []
  }
 ],
 "metadata": {
  "kernelspec": {
   "display_name": "Python 3 (ipykernel)",
   "language": "python",
   "name": "python3"
  },
  "language_info": {
   "codemirror_mode": {
    "name": "ipython",
    "version": 3
   },
   "file_extension": ".py",
   "mimetype": "text/x-python",
   "name": "python",
   "nbconvert_exporter": "python",
   "pygments_lexer": "ipython3",
   "version": "3.11.7"
  }
 },
 "nbformat": 4,
 "nbformat_minor": 5
}
