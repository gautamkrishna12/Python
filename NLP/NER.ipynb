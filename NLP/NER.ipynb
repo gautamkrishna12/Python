{
 "cells": [
  {
   "cell_type": "code",
   "execution_count": 2,
   "id": "bac7dd0a-3df7-46e2-8dbc-c168b94ec40a",
   "metadata": {},
   "outputs": [
    {
     "name": "stdout",
     "output_type": "stream",
     "text": [
      "ORGANIZATION ----> GeeksforGeeks\n",
      "GPE ----> India\n"
     ]
    }
   ],
   "source": [
    "import nltk\n",
    "\n",
    "text = \"GeeksforGeeks is a recognised platform for online learning in India\"\n",
    "\n",
    "tokens=nltk.word_tokenize(text)\n",
    "taggs=nltk.pos_tag(tokens)\n",
    "ner=nltk.chunk.ne_chunk(taggs)\n",
    "for entity in ner:\n",
    "    if hasattr(entity,'label'):\n",
    "        print(f\"{entity.label()} ----> {''.join(i[0] for i in entity)}\")"
   ]
  },
  {
   "cell_type": "code",
   "execution_count": null,
   "id": "e1b3d820-1b56-4f04-8758-c52a8856ee89",
   "metadata": {},
   "outputs": [],
   "source": []
  },
  {
   "cell_type": "code",
   "execution_count": null,
   "id": "58f2278d-e76f-48dc-9295-558863a0ea7a",
   "metadata": {},
   "outputs": [],
   "source": []
  }
 ],
 "metadata": {
  "kernelspec": {
   "display_name": "Python 3 (ipykernel)",
   "language": "python",
   "name": "python3"
  },
  "language_info": {
   "codemirror_mode": {
    "name": "ipython",
    "version": 3
   },
   "file_extension": ".py",
   "mimetype": "text/x-python",
   "name": "python",
   "nbconvert_exporter": "python",
   "pygments_lexer": "ipython3",
   "version": "3.11.7"
  }
 },
 "nbformat": 4,
 "nbformat_minor": 5
}
