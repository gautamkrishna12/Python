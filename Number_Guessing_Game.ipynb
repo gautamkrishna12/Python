{
 "cells": [
  {
   "cell_type": "code",
   "execution_count": 3,
   "id": "08f97b14",
   "metadata": {},
   "outputs": [],
   "source": [
    "#Number Guessing Game\n"
   ]
  },
  {
   "cell_type": "code",
   "execution_count": 1,
   "id": "60db4f3b",
   "metadata": {},
   "outputs": [],
   "source": [
    "import random"
   ]
  },
  {
   "cell_type": "code",
   "execution_count": 2,
   "id": "2e724835",
   "metadata": {},
   "outputs": [],
   "source": [
    "def choice():\n",
    "    print(\"Enter 'y' to continue,'n' to exit\")\n",
    "    ch=''\n",
    "    while (ch not in ['y','n']):\n",
    "        ch=input('Enter your choice :')\n",
    "        if(ch not in['y','n']):\n",
    "            print('Wrong choice')\n",
    "    if(ch=='y'):\n",
    "        return True\n",
    "    else:\n",
    "        return False"
   ]
  },
  {
   "cell_type": "code",
   "execution_count": 3,
   "id": "ec58d3dd",
   "metadata": {},
   "outputs": [],
   "source": [
    "def select_Numbers():\n",
    "    print('Enter a number between 1 and 100')\n",
    "    p_num='p'\n",
    "    while (type(p_num)==type('p')):\n",
    "        try:\n",
    "            p_num=int(input('Enter the number:'))\n",
    "        except:\n",
    "            print('Enter a valid number.')\n",
    "    return p_num"
   ]
  },
  {
   "cell_type": "code",
   "execution_count": 7,
   "id": "b939c2c2",
   "metadata": {},
   "outputs": [
    {
     "name": "stdout",
     "output_type": "stream",
     "text": [
      "Hello Welcome to 'Guess a Number' !!\n",
      "Enter your name : Krish\n",
      "Hai Krish.You have total 5 guess.\n",
      "All The Best!\n",
      "Enter a number between 1 and 100\n",
      "Enter the number:70\n",
      "The choice is big\n",
      "Enter a number between 1 and 100\n",
      "Enter the number:60\n",
      "Congratulations, You got the number!\n",
      "Do you want to play the game again.\n",
      "Enter 'y' to continue,'n' to exit\n",
      "Enter your choice :n\n"
     ]
    }
   ],
   "source": [
    "game_on=True\n",
    "while game_on:\n",
    "    print(\"Hello Welcome to 'Guess a Number' !!\")\n",
    "    name=input('Enter your name : ')\n",
    "    msg=f'Hai {name}.You have total 5 guess.\\nAll The Best!'\n",
    "    print(msg)\n",
    "    in_game=True\n",
    "    game_num=random.randint(1,100)\n",
    "    t_try=5\n",
    "    while (in_game):\n",
    "        if(t_try<=0):\n",
    "            print('Sorry Your Gusses are over!')\n",
    "            print('Do you want to keep Playing.')\n",
    "            if(choice()):\n",
    "                t_try=5\n",
    "            else:\n",
    "                in_game=False\n",
    "                break\n",
    "        p_num=select_Numbers()\n",
    "        if(p_num==game_num):\n",
    "            print('Congratulations, You got the number!')\n",
    "            break\n",
    "        elif(p_num>game_num):\n",
    "            print('The choice is big')\n",
    "            t_try-=1\n",
    "        else:\n",
    "            print('The choice is small')\n",
    "            t_try-=1\n",
    "    print(\"Do you want to play the game again.\")\n",
    "    if(choice()):\n",
    "        pass\n",
    "    else:\n",
    "        game_on=False\n",
    "            \n",
    "        "
   ]
  },
  {
   "cell_type": "code",
   "execution_count": null,
   "id": "a5622e93",
   "metadata": {},
   "outputs": [],
   "source": []
  }
 ],
 "metadata": {
  "kernelspec": {
   "display_name": "Python 3 (ipykernel)",
   "language": "python",
   "name": "python3"
  },
  "language_info": {
   "codemirror_mode": {
    "name": "ipython",
    "version": 3
   },
   "file_extension": ".py",
   "mimetype": "text/x-python",
   "name": "python",
   "nbconvert_exporter": "python",
   "pygments_lexer": "ipython3",
   "version": "3.9.13"
  }
 },
 "nbformat": 4,
 "nbformat_minor": 5
}
